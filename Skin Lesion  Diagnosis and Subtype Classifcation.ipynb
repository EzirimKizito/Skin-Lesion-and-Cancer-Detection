{
  "metadata": {
    "kernelspec": {
      "display_name": "Python 3",
      "name": "python3"
    },
    "language_info": {
      "name": "python",
      "version": "3.10.13",
      "mimetype": "text/x-python",
      "codemirror_mode": {
        "name": "ipython",
        "version": 3
      },
      "pygments_lexer": "ipython3",
      "nbconvert_exporter": "python",
      "file_extension": ".py"
    },
    "kaggle": {
      "accelerator": "gpu",
      "dataSources": [
        {
          "sourceId": 2275763,
          "sourceType": "datasetVersion",
          "datasetId": 1370616
        },
        {
          "sourceId": 6013657,
          "sourceType": "datasetVersion",
          "datasetId": 3441910
        },
        {
          "sourceId": 6223670,
          "sourceType": "datasetVersion",
          "datasetId": 3573009
        }
      ],
      "dockerImageVersionId": 30699,
      "isInternetEnabled": true,
      "language": "python",
      "sourceType": "notebook",
      "isGpuEnabled": true
    },
    "colab": {
      "provenance": [],
      "gpuType": "T4"
    },
    "accelerator": "GPU"
  },
  "nbformat_minor": 0,
  "nbformat": 4,
  "cells": [
    {
      "cell_type": "code",
      "source": [
        "import tensorflow as tf\n",
        "import keras\n",
        "import tensorflow as tf\n",
        "from tensorflow import keras\n",
        "from tensorflow.keras import backend as K\n",
        "from tensorflow.keras.layers import Dense, Activation,Dropout,Conv2D, MaxPooling2D,BatchNormalization, Flatten\n",
        "from tensorflow.keras.optimizers import Adam, Adamax\n",
        "from tensorflow.keras.metrics import categorical_crossentropy\n",
        "from tensorflow.keras import regularizers\n",
        "from tensorflow.keras.preprocessing.image import ImageDataGenerator\n",
        "from tensorflow.keras.models import Model, load_model, Sequential\n",
        "import numpy as np\n",
        "import pandas as pd\n",
        "import os\n",
        "import numpy as np\n",
        "import numpy as np\n",
        "from tensorflow.keras.preprocessing.image import load_img, img_to_array\n",
        "from tensorflow.keras.utils import to_categorical\n",
        "import random\n",
        "from PIL import Image\n",
        "import shutil\n",
        "import time\n",
        "import os\n",
        "from glob import glob\n",
        "import cv2 as cv2\n",
        "import os\n",
        "import shutil\n",
        "from glob import glob\n",
        "import numpy as np\n",
        "\n",
        "import pandas as pd\n",
        "from sklearn.utils.class_weight import compute_class_weight\n",
        "import numpy as np\n",
        "import tensorflow as tf\n",
        "from tensorflow.keras.models import Model\n",
        "from tensorflow.keras.layers import Input, Dropout, Dense, GlobalAveragePooling2D, Multiply, Conv2D, Activation, BatchNormalization\n",
        "from tensorflow.keras.applications import EfficientNetB1\n",
        "from tensorflow.keras.optimizers import Adam\n",
        "from tensorflow.keras.regularizers import l2\n",
        "from tensorflow.keras.callbacks import EarlyStopping, ModelCheckpoint, ReduceLROnPlateau\n",
        "import os\n",
        "import shutil\n",
        "from sklearn.model_selection import train_test_split\n",
        "from tensorflow.keras.preprocessing.image import ImageDataGenerator\n",
        "from tqdm import tqdm\n",
        "from sklearn.model_selection import train_test_split\n",
        "import matplotlib.pyplot as plt\n",
        "from tensorflow.keras.applications import EfficientNetB1\n",
        "from tensorflow.keras.layers import Input, Lambda, Dense, Dropout, GlobalAveragePooling2D\n",
        "from tensorflow.keras.models import Model\n",
        "from tensorflow.keras.regularizers import l2\n",
        "from matplotlib.pyplot import imshow\n",
        "import os\n",
        "import seaborn as sns\n",
        "sns.set_style('darkgrid')\n",
        "from PIL import Image\n",
        "from sklearn.metrics import confusion_matrix, classification_report\n",
        "from IPython.core.display import display, HTML"
      ],
      "metadata": {
        "id": "p6AL-Bq9tdaS"
      },
      "execution_count": 4,
      "outputs": []
    },
    {
      "cell_type": "code",
      "source": [
        "from google.colab import drive\n",
        "import os\n",
        "\n",
        "# Mount your Google Drive\n",
        "drive.mount('/content/drive')"
      ],
      "metadata": {
        "colab": {
          "base_uri": "https://localhost:8080/"
        },
        "id": "33Q5fyoAt5xi",
        "outputId": "bf06bc3f-5315-4158-ff7f-1289ffb6a873"
      },
      "execution_count": 2,
      "outputs": [
        {
          "output_type": "stream",
          "name": "stdout",
          "text": [
            "Mounted at /content/drive\n"
          ]
        }
      ]
    },
    {
      "cell_type": "code",
      "source": [
        "# Load the original dataset\n",
        "# data = pd.read_csv('/content/drive/MyDrive/Dataset/Skin_Lesion_Datasets/GroundTruth.csv')"
      ],
      "metadata": {
        "execution": {
          "iopub.status.busy": "2024-05-23T13:05:02.700704Z",
          "iopub.execute_input": "2024-05-23T13:05:02.701073Z",
          "iopub.status.idle": "2024-05-23T13:05:02.722450Z",
          "shell.execute_reply.started": "2024-05-23T13:05:02.701045Z",
          "shell.execute_reply": "2024-05-23T13:05:02.721326Z"
        },
        "trusted": true,
        "id": "DT01J_oetdaa"
      },
      "execution_count": null,
      "outputs": []
    },
    {
      "cell_type": "code",
      "source": [
        "# import os\n",
        "# import shutil\n",
        "# import zipfile\n",
        "\n",
        "# # Define the target directory\n",
        "# target_dir = \"/content/drive/MyDrive/Dataset/Skin_Lesion_Datasets/isic2019\"\n",
        "# os.makedirs(target_dir, exist_ok=True)\n",
        "\n",
        "# # Function to download and extract Kaggle datasets\n",
        "# def download_and_extract_kaggle_dataset(dataset_name, target_path):\n",
        "#     !kaggle datasets download -d {dataset_name}\n",
        "#     zip_file = dataset_name.split('/')[-1] + \".zip\"\n",
        "#     with zipfile.ZipFile(zip_file, 'r') as zip_ref:\n",
        "#         zip_ref.extractall(target_path)\n",
        "#     os.remove(zip_file)\n",
        "\n",
        "# # List of datasets to download\n",
        "# datasets = [\n",
        "#     \"ahdasdwdasd/our-normal-skin\",\n",
        "#     \"surajghuwalewala/ham1000-segmentation-and-classification\",\n",
        "#     \"thanatw/isic2019-modded\"\n",
        "# ]\n",
        "\n",
        "# # Download and extract each dataset\n",
        "# for dataset in datasets:\n",
        "#     download_and_extract_kaggle_dataset(dataset, target_dir)\n",
        "\n",
        "# print(\"Datasets downloaded and extracted successfully.\")\n"
      ],
      "metadata": {
        "id": "oJh3NkQ_vV4C",
        "colab": {
          "base_uri": "https://localhost:8080/"
        },
        "outputId": "328e04d8-3d96-4d70-f880-542ad44f44f0"
      },
      "execution_count": 3,
      "outputs": [
        {
          "output_type": "stream",
          "name": "stdout",
          "text": [
            "Dataset URL: https://www.kaggle.com/datasets/ahdasdwdasd/our-normal-skin\n",
            "License(s): unknown\n",
            "Downloading our-normal-skin.zip to /content\n",
            " 45% 5.00M/11.1M [00:00<00:00, 33.8MB/s]\n",
            "100% 11.1M/11.1M [00:00<00:00, 60.8MB/s]\n",
            "Dataset URL: https://www.kaggle.com/datasets/surajghuwalewala/ham1000-segmentation-and-classification\n",
            "License(s): Attribution-NonCommercial 4.0 International (CC BY-NC 4.0)\n",
            "Downloading ham1000-segmentation-and-classification.zip to /content\n",
            " 99% 2.57G/2.59G [00:33<00:00, 108MB/s]\n",
            "100% 2.59G/2.59G [00:33<00:00, 83.1MB/s]\n",
            "Dataset URL: https://www.kaggle.com/datasets/thanatw/isic2019-modded\n",
            "License(s): Attribution-NonCommercial 4.0 International (CC BY-NC 4.0)\n",
            "Downloading isic2019-modded.zip to /content\n",
            "100% 7.09G/7.09G [01:16<00:00, 65.7MB/s]\n",
            "100% 7.09G/7.09G [01:16<00:00, 99.0MB/s]\n",
            "Datasets downloaded and extracted successfully.\n"
          ]
        }
      ]
    },
    {
      "cell_type": "code",
      "source": [
        "import os\n",
        "import shutil\n",
        "\n",
        "# Define the source and target directories\n",
        "source_dir = \"/content/drive/MyDrive/Dataset/Skin_Lesion_Datasets/All\"\n",
        "target_dir = os.path.join(source_dir, \"our_normal_skin\")\n",
        "\n",
        "# Create the target directory if it doesn't exist\n",
        "os.makedirs(target_dir, exist_ok=True)\n",
        "\n",
        "# Move all files from source_dir to target_dir\n",
        "for item in os.listdir(source_dir):\n",
        "    item_path = os.path.join(source_dir, item)\n",
        "    if os.path.isfile(item_path):  # Check if it's a file\n",
        "        shutil.move(item_path, target_dir)\n",
        "\n",
        "print(\"All images have been moved to our_normal_skin directory.\")\n"
      ],
      "metadata": {
        "id": "bxKDOY2T090L",
        "colab": {
          "base_uri": "https://localhost:8080/"
        },
        "outputId": "b592d1a1-45a0-4353-ac28-f830d479943a"
      },
      "execution_count": 7,
      "outputs": [
        {
          "output_type": "stream",
          "name": "stdout",
          "text": [
            "All images have been moved to our_normal_skin directory.\n"
          ]
        }
      ]
    },
    {
      "cell_type": "code",
      "source": [
        "data = pd.read_csv('/content/drive/MyDrive/Dataset/Skin_Lesion_Datasets/All/our_normal_skin/GroundTruth.csv')"
      ],
      "metadata": {
        "id": "vXqAVfaB6J96"
      },
      "execution_count": 3,
      "outputs": []
    },
    {
      "cell_type": "code",
      "source": [
        "data.head(2)"
      ],
      "metadata": {
        "execution": {
          "iopub.status.busy": "2024-05-23T13:05:05.372626Z",
          "iopub.execute_input": "2024-05-23T13:05:05.373347Z",
          "iopub.status.idle": "2024-05-23T13:05:05.397017Z",
          "shell.execute_reply.started": "2024-05-23T13:05:05.373316Z",
          "shell.execute_reply": "2024-05-23T13:05:05.396143Z"
        },
        "trusted": true,
        "colab": {
          "base_uri": "https://localhost:8080/",
          "height": 112
        },
        "id": "BAgm6j-htdac",
        "outputId": "d2ed3e94-0040-44a8-d827-1eb2a7c8ff6e"
      },
      "execution_count": 4,
      "outputs": [
        {
          "output_type": "execute_result",
          "data": {
            "text/plain": [
              "          image  MEL   NV  BCC  AKIEC  BKL   DF  VASC\n",
              "0  ISIC_0024306  0.0  1.0  0.0    0.0  0.0  0.0   0.0\n",
              "1  ISIC_0024307  0.0  1.0  0.0    0.0  0.0  0.0   0.0"
            ],
            "text/html": [
              "\n",
              "  <div id=\"df-b7f500bf-db60-4a46-abc1-9edd6775de42\" class=\"colab-df-container\">\n",
              "    <div>\n",
              "<style scoped>\n",
              "    .dataframe tbody tr th:only-of-type {\n",
              "        vertical-align: middle;\n",
              "    }\n",
              "\n",
              "    .dataframe tbody tr th {\n",
              "        vertical-align: top;\n",
              "    }\n",
              "\n",
              "    .dataframe thead th {\n",
              "        text-align: right;\n",
              "    }\n",
              "</style>\n",
              "<table border=\"1\" class=\"dataframe\">\n",
              "  <thead>\n",
              "    <tr style=\"text-align: right;\">\n",
              "      <th></th>\n",
              "      <th>image</th>\n",
              "      <th>MEL</th>\n",
              "      <th>NV</th>\n",
              "      <th>BCC</th>\n",
              "      <th>AKIEC</th>\n",
              "      <th>BKL</th>\n",
              "      <th>DF</th>\n",
              "      <th>VASC</th>\n",
              "    </tr>\n",
              "  </thead>\n",
              "  <tbody>\n",
              "    <tr>\n",
              "      <th>0</th>\n",
              "      <td>ISIC_0024306</td>\n",
              "      <td>0.0</td>\n",
              "      <td>1.0</td>\n",
              "      <td>0.0</td>\n",
              "      <td>0.0</td>\n",
              "      <td>0.0</td>\n",
              "      <td>0.0</td>\n",
              "      <td>0.0</td>\n",
              "    </tr>\n",
              "    <tr>\n",
              "      <th>1</th>\n",
              "      <td>ISIC_0024307</td>\n",
              "      <td>0.0</td>\n",
              "      <td>1.0</td>\n",
              "      <td>0.0</td>\n",
              "      <td>0.0</td>\n",
              "      <td>0.0</td>\n",
              "      <td>0.0</td>\n",
              "      <td>0.0</td>\n",
              "    </tr>\n",
              "  </tbody>\n",
              "</table>\n",
              "</div>\n",
              "    <div class=\"colab-df-buttons\">\n",
              "\n",
              "  <div class=\"colab-df-container\">\n",
              "    <button class=\"colab-df-convert\" onclick=\"convertToInteractive('df-b7f500bf-db60-4a46-abc1-9edd6775de42')\"\n",
              "            title=\"Convert this dataframe to an interactive table.\"\n",
              "            style=\"display:none;\">\n",
              "\n",
              "  <svg xmlns=\"http://www.w3.org/2000/svg\" height=\"24px\" viewBox=\"0 -960 960 960\">\n",
              "    <path d=\"M120-120v-720h720v720H120Zm60-500h600v-160H180v160Zm220 220h160v-160H400v160Zm0 220h160v-160H400v160ZM180-400h160v-160H180v160Zm440 0h160v-160H620v160ZM180-180h160v-160H180v160Zm440 0h160v-160H620v160Z\"/>\n",
              "  </svg>\n",
              "    </button>\n",
              "\n",
              "  <style>\n",
              "    .colab-df-container {\n",
              "      display:flex;\n",
              "      gap: 12px;\n",
              "    }\n",
              "\n",
              "    .colab-df-convert {\n",
              "      background-color: #E8F0FE;\n",
              "      border: none;\n",
              "      border-radius: 50%;\n",
              "      cursor: pointer;\n",
              "      display: none;\n",
              "      fill: #1967D2;\n",
              "      height: 32px;\n",
              "      padding: 0 0 0 0;\n",
              "      width: 32px;\n",
              "    }\n",
              "\n",
              "    .colab-df-convert:hover {\n",
              "      background-color: #E2EBFA;\n",
              "      box-shadow: 0px 1px 2px rgba(60, 64, 67, 0.3), 0px 1px 3px 1px rgba(60, 64, 67, 0.15);\n",
              "      fill: #174EA6;\n",
              "    }\n",
              "\n",
              "    .colab-df-buttons div {\n",
              "      margin-bottom: 4px;\n",
              "    }\n",
              "\n",
              "    [theme=dark] .colab-df-convert {\n",
              "      background-color: #3B4455;\n",
              "      fill: #D2E3FC;\n",
              "    }\n",
              "\n",
              "    [theme=dark] .colab-df-convert:hover {\n",
              "      background-color: #434B5C;\n",
              "      box-shadow: 0px 1px 3px 1px rgba(0, 0, 0, 0.15);\n",
              "      filter: drop-shadow(0px 1px 2px rgba(0, 0, 0, 0.3));\n",
              "      fill: #FFFFFF;\n",
              "    }\n",
              "  </style>\n",
              "\n",
              "    <script>\n",
              "      const buttonEl =\n",
              "        document.querySelector('#df-b7f500bf-db60-4a46-abc1-9edd6775de42 button.colab-df-convert');\n",
              "      buttonEl.style.display =\n",
              "        google.colab.kernel.accessAllowed ? 'block' : 'none';\n",
              "\n",
              "      async function convertToInteractive(key) {\n",
              "        const element = document.querySelector('#df-b7f500bf-db60-4a46-abc1-9edd6775de42');\n",
              "        const dataTable =\n",
              "          await google.colab.kernel.invokeFunction('convertToInteractive',\n",
              "                                                    [key], {});\n",
              "        if (!dataTable) return;\n",
              "\n",
              "        const docLinkHtml = 'Like what you see? Visit the ' +\n",
              "          '<a target=\"_blank\" href=https://colab.research.google.com/notebooks/data_table.ipynb>data table notebook</a>'\n",
              "          + ' to learn more about interactive tables.';\n",
              "        element.innerHTML = '';\n",
              "        dataTable['output_type'] = 'display_data';\n",
              "        await google.colab.output.renderOutput(dataTable, element);\n",
              "        const docLink = document.createElement('div');\n",
              "        docLink.innerHTML = docLinkHtml;\n",
              "        element.appendChild(docLink);\n",
              "      }\n",
              "    </script>\n",
              "  </div>\n",
              "\n",
              "\n",
              "<div id=\"df-a9347fbe-f7c0-4934-a87d-0f9acc186881\">\n",
              "  <button class=\"colab-df-quickchart\" onclick=\"quickchart('df-a9347fbe-f7c0-4934-a87d-0f9acc186881')\"\n",
              "            title=\"Suggest charts\"\n",
              "            style=\"display:none;\">\n",
              "\n",
              "<svg xmlns=\"http://www.w3.org/2000/svg\" height=\"24px\"viewBox=\"0 0 24 24\"\n",
              "     width=\"24px\">\n",
              "    <g>\n",
              "        <path d=\"M19 3H5c-1.1 0-2 .9-2 2v14c0 1.1.9 2 2 2h14c1.1 0 2-.9 2-2V5c0-1.1-.9-2-2-2zM9 17H7v-7h2v7zm4 0h-2V7h2v10zm4 0h-2v-4h2v4z\"/>\n",
              "    </g>\n",
              "</svg>\n",
              "  </button>\n",
              "\n",
              "<style>\n",
              "  .colab-df-quickchart {\n",
              "      --bg-color: #E8F0FE;\n",
              "      --fill-color: #1967D2;\n",
              "      --hover-bg-color: #E2EBFA;\n",
              "      --hover-fill-color: #174EA6;\n",
              "      --disabled-fill-color: #AAA;\n",
              "      --disabled-bg-color: #DDD;\n",
              "  }\n",
              "\n",
              "  [theme=dark] .colab-df-quickchart {\n",
              "      --bg-color: #3B4455;\n",
              "      --fill-color: #D2E3FC;\n",
              "      --hover-bg-color: #434B5C;\n",
              "      --hover-fill-color: #FFFFFF;\n",
              "      --disabled-bg-color: #3B4455;\n",
              "      --disabled-fill-color: #666;\n",
              "  }\n",
              "\n",
              "  .colab-df-quickchart {\n",
              "    background-color: var(--bg-color);\n",
              "    border: none;\n",
              "    border-radius: 50%;\n",
              "    cursor: pointer;\n",
              "    display: none;\n",
              "    fill: var(--fill-color);\n",
              "    height: 32px;\n",
              "    padding: 0;\n",
              "    width: 32px;\n",
              "  }\n",
              "\n",
              "  .colab-df-quickchart:hover {\n",
              "    background-color: var(--hover-bg-color);\n",
              "    box-shadow: 0 1px 2px rgba(60, 64, 67, 0.3), 0 1px 3px 1px rgba(60, 64, 67, 0.15);\n",
              "    fill: var(--button-hover-fill-color);\n",
              "  }\n",
              "\n",
              "  .colab-df-quickchart-complete:disabled,\n",
              "  .colab-df-quickchart-complete:disabled:hover {\n",
              "    background-color: var(--disabled-bg-color);\n",
              "    fill: var(--disabled-fill-color);\n",
              "    box-shadow: none;\n",
              "  }\n",
              "\n",
              "  .colab-df-spinner {\n",
              "    border: 2px solid var(--fill-color);\n",
              "    border-color: transparent;\n",
              "    border-bottom-color: var(--fill-color);\n",
              "    animation:\n",
              "      spin 1s steps(1) infinite;\n",
              "  }\n",
              "\n",
              "  @keyframes spin {\n",
              "    0% {\n",
              "      border-color: transparent;\n",
              "      border-bottom-color: var(--fill-color);\n",
              "      border-left-color: var(--fill-color);\n",
              "    }\n",
              "    20% {\n",
              "      border-color: transparent;\n",
              "      border-left-color: var(--fill-color);\n",
              "      border-top-color: var(--fill-color);\n",
              "    }\n",
              "    30% {\n",
              "      border-color: transparent;\n",
              "      border-left-color: var(--fill-color);\n",
              "      border-top-color: var(--fill-color);\n",
              "      border-right-color: var(--fill-color);\n",
              "    }\n",
              "    40% {\n",
              "      border-color: transparent;\n",
              "      border-right-color: var(--fill-color);\n",
              "      border-top-color: var(--fill-color);\n",
              "    }\n",
              "    60% {\n",
              "      border-color: transparent;\n",
              "      border-right-color: var(--fill-color);\n",
              "    }\n",
              "    80% {\n",
              "      border-color: transparent;\n",
              "      border-right-color: var(--fill-color);\n",
              "      border-bottom-color: var(--fill-color);\n",
              "    }\n",
              "    90% {\n",
              "      border-color: transparent;\n",
              "      border-bottom-color: var(--fill-color);\n",
              "    }\n",
              "  }\n",
              "</style>\n",
              "\n",
              "  <script>\n",
              "    async function quickchart(key) {\n",
              "      const quickchartButtonEl =\n",
              "        document.querySelector('#' + key + ' button');\n",
              "      quickchartButtonEl.disabled = true;  // To prevent multiple clicks.\n",
              "      quickchartButtonEl.classList.add('colab-df-spinner');\n",
              "      try {\n",
              "        const charts = await google.colab.kernel.invokeFunction(\n",
              "            'suggestCharts', [key], {});\n",
              "      } catch (error) {\n",
              "        console.error('Error during call to suggestCharts:', error);\n",
              "      }\n",
              "      quickchartButtonEl.classList.remove('colab-df-spinner');\n",
              "      quickchartButtonEl.classList.add('colab-df-quickchart-complete');\n",
              "    }\n",
              "    (() => {\n",
              "      let quickchartButtonEl =\n",
              "        document.querySelector('#df-a9347fbe-f7c0-4934-a87d-0f9acc186881 button');\n",
              "      quickchartButtonEl.style.display =\n",
              "        google.colab.kernel.accessAllowed ? 'block' : 'none';\n",
              "    })();\n",
              "  </script>\n",
              "</div>\n",
              "\n",
              "    </div>\n",
              "  </div>\n"
            ],
            "application/vnd.google.colaboratory.intrinsic+json": {
              "type": "dataframe",
              "variable_name": "data",
              "summary": "{\n  \"name\": \"data\",\n  \"rows\": 10015,\n  \"fields\": [\n    {\n      \"column\": \"image\",\n      \"properties\": {\n        \"dtype\": \"string\",\n        \"num_unique_values\": 10015,\n        \"samples\": [\n          \"ISIC_0025923\",\n          \"ISIC_0032434\",\n          \"ISIC_0026474\"\n        ],\n        \"semantic_type\": \"\",\n        \"description\": \"\"\n      }\n    },\n    {\n      \"column\": \"MEL\",\n      \"properties\": {\n        \"dtype\": \"number\",\n        \"std\": 0.3143128284506746,\n        \"min\": 0.0,\n        \"max\": 1.0,\n        \"num_unique_values\": 2,\n        \"samples\": [\n          1.0,\n          0.0\n        ],\n        \"semantic_type\": \"\",\n        \"description\": \"\"\n      }\n    },\n    {\n      \"column\": \"NV\",\n      \"properties\": {\n        \"dtype\": \"number\",\n        \"std\": 0.4704182019844714,\n        \"min\": 0.0,\n        \"max\": 1.0,\n        \"num_unique_values\": 2,\n        \"samples\": [\n          0.0,\n          1.0\n        ],\n        \"semantic_type\": \"\",\n        \"description\": \"\"\n      }\n    },\n    {\n      \"column\": \"BCC\",\n      \"properties\": {\n        \"dtype\": \"number\",\n        \"std\": 0.220666775135237,\n        \"min\": 0.0,\n        \"max\": 1.0,\n        \"num_unique_values\": 2,\n        \"samples\": [\n          1.0,\n          0.0\n        ],\n        \"semantic_type\": \"\",\n        \"description\": \"\"\n      }\n    },\n    {\n      \"column\": \"AKIEC\",\n      \"properties\": {\n        \"dtype\": \"number\",\n        \"std\": 0.17773038065904223,\n        \"min\": 0.0,\n        \"max\": 1.0,\n        \"num_unique_values\": 2,\n        \"samples\": [\n          1.0,\n          0.0\n        ],\n        \"semantic_type\": \"\",\n        \"description\": \"\"\n      }\n    },\n    {\n      \"column\": \"BKL\",\n      \"properties\": {\n        \"dtype\": \"number\",\n        \"std\": 0.31257526336357166,\n        \"min\": 0.0,\n        \"max\": 1.0,\n        \"num_unique_values\": 2,\n        \"samples\": [\n          1.0,\n          0.0\n        ],\n        \"semantic_type\": \"\",\n        \"description\": \"\"\n      }\n    },\n    {\n      \"column\": \"DF\",\n      \"properties\": {\n        \"dtype\": \"number\",\n        \"std\": 0.10654602386106356,\n        \"min\": 0.0,\n        \"max\": 1.0,\n        \"num_unique_values\": 2,\n        \"samples\": [\n          1.0,\n          0.0\n        ],\n        \"semantic_type\": \"\",\n        \"description\": \"\"\n      }\n    },\n    {\n      \"column\": \"VASC\",\n      \"properties\": {\n        \"dtype\": \"number\",\n        \"std\": 0.11823320717632015,\n        \"min\": 0.0,\n        \"max\": 1.0,\n        \"num_unique_values\": 2,\n        \"samples\": [\n          1.0,\n          0.0\n        ],\n        \"semantic_type\": \"\",\n        \"description\": \"\"\n      }\n    }\n  ]\n}"
            }
          },
          "metadata": {},
          "execution_count": 4
        }
      ]
    },
    {
      "cell_type": "code",
      "source": [
        "# Add 'Normal' to the dataset, assuming we are appending it directly\n",
        "data['Class'] = data.iloc[:, 1:].idxmax(axis=1)  # This assumes the first column is an ID and the rest are conditions\n"
      ],
      "metadata": {
        "execution": {
          "iopub.status.busy": "2024-05-23T13:05:05.822741Z",
          "iopub.execute_input": "2024-05-23T13:05:05.823436Z",
          "iopub.status.idle": "2024-05-23T13:05:05.838952Z",
          "shell.execute_reply.started": "2024-05-23T13:05:05.823404Z",
          "shell.execute_reply": "2024-05-23T13:05:05.837717Z"
        },
        "trusted": true,
        "id": "Xbl9CWXFtdag"
      },
      "execution_count": 5,
      "outputs": []
    },
    {
      "cell_type": "code",
      "source": [
        "\n",
        "data.head(2)"
      ],
      "metadata": {
        "execution": {
          "iopub.status.busy": "2024-05-23T13:05:07.017524Z",
          "iopub.execute_input": "2024-05-23T13:05:07.018238Z",
          "iopub.status.idle": "2024-05-23T13:05:07.032844Z",
          "shell.execute_reply.started": "2024-05-23T13:05:07.018206Z",
          "shell.execute_reply": "2024-05-23T13:05:07.031827Z"
        },
        "trusted": true,
        "colab": {
          "base_uri": "https://localhost:8080/",
          "height": 112
        },
        "id": "n3Ff-CWOtdah",
        "outputId": "a6ae8baa-bdee-4d7d-d4ce-78028497639d"
      },
      "execution_count": 6,
      "outputs": [
        {
          "output_type": "execute_result",
          "data": {
            "text/plain": [
              "          image  MEL   NV  BCC  AKIEC  BKL   DF  VASC Class\n",
              "0  ISIC_0024306  0.0  1.0  0.0    0.0  0.0  0.0   0.0    NV\n",
              "1  ISIC_0024307  0.0  1.0  0.0    0.0  0.0  0.0   0.0    NV"
            ],
            "text/html": [
              "\n",
              "  <div id=\"df-0cce96b1-fd61-4cc1-92c2-689a0d218731\" class=\"colab-df-container\">\n",
              "    <div>\n",
              "<style scoped>\n",
              "    .dataframe tbody tr th:only-of-type {\n",
              "        vertical-align: middle;\n",
              "    }\n",
              "\n",
              "    .dataframe tbody tr th {\n",
              "        vertical-align: top;\n",
              "    }\n",
              "\n",
              "    .dataframe thead th {\n",
              "        text-align: right;\n",
              "    }\n",
              "</style>\n",
              "<table border=\"1\" class=\"dataframe\">\n",
              "  <thead>\n",
              "    <tr style=\"text-align: right;\">\n",
              "      <th></th>\n",
              "      <th>image</th>\n",
              "      <th>MEL</th>\n",
              "      <th>NV</th>\n",
              "      <th>BCC</th>\n",
              "      <th>AKIEC</th>\n",
              "      <th>BKL</th>\n",
              "      <th>DF</th>\n",
              "      <th>VASC</th>\n",
              "      <th>Class</th>\n",
              "    </tr>\n",
              "  </thead>\n",
              "  <tbody>\n",
              "    <tr>\n",
              "      <th>0</th>\n",
              "      <td>ISIC_0024306</td>\n",
              "      <td>0.0</td>\n",
              "      <td>1.0</td>\n",
              "      <td>0.0</td>\n",
              "      <td>0.0</td>\n",
              "      <td>0.0</td>\n",
              "      <td>0.0</td>\n",
              "      <td>0.0</td>\n",
              "      <td>NV</td>\n",
              "    </tr>\n",
              "    <tr>\n",
              "      <th>1</th>\n",
              "      <td>ISIC_0024307</td>\n",
              "      <td>0.0</td>\n",
              "      <td>1.0</td>\n",
              "      <td>0.0</td>\n",
              "      <td>0.0</td>\n",
              "      <td>0.0</td>\n",
              "      <td>0.0</td>\n",
              "      <td>0.0</td>\n",
              "      <td>NV</td>\n",
              "    </tr>\n",
              "  </tbody>\n",
              "</table>\n",
              "</div>\n",
              "    <div class=\"colab-df-buttons\">\n",
              "\n",
              "  <div class=\"colab-df-container\">\n",
              "    <button class=\"colab-df-convert\" onclick=\"convertToInteractive('df-0cce96b1-fd61-4cc1-92c2-689a0d218731')\"\n",
              "            title=\"Convert this dataframe to an interactive table.\"\n",
              "            style=\"display:none;\">\n",
              "\n",
              "  <svg xmlns=\"http://www.w3.org/2000/svg\" height=\"24px\" viewBox=\"0 -960 960 960\">\n",
              "    <path d=\"M120-120v-720h720v720H120Zm60-500h600v-160H180v160Zm220 220h160v-160H400v160Zm0 220h160v-160H400v160ZM180-400h160v-160H180v160Zm440 0h160v-160H620v160ZM180-180h160v-160H180v160Zm440 0h160v-160H620v160Z\"/>\n",
              "  </svg>\n",
              "    </button>\n",
              "\n",
              "  <style>\n",
              "    .colab-df-container {\n",
              "      display:flex;\n",
              "      gap: 12px;\n",
              "    }\n",
              "\n",
              "    .colab-df-convert {\n",
              "      background-color: #E8F0FE;\n",
              "      border: none;\n",
              "      border-radius: 50%;\n",
              "      cursor: pointer;\n",
              "      display: none;\n",
              "      fill: #1967D2;\n",
              "      height: 32px;\n",
              "      padding: 0 0 0 0;\n",
              "      width: 32px;\n",
              "    }\n",
              "\n",
              "    .colab-df-convert:hover {\n",
              "      background-color: #E2EBFA;\n",
              "      box-shadow: 0px 1px 2px rgba(60, 64, 67, 0.3), 0px 1px 3px 1px rgba(60, 64, 67, 0.15);\n",
              "      fill: #174EA6;\n",
              "    }\n",
              "\n",
              "    .colab-df-buttons div {\n",
              "      margin-bottom: 4px;\n",
              "    }\n",
              "\n",
              "    [theme=dark] .colab-df-convert {\n",
              "      background-color: #3B4455;\n",
              "      fill: #D2E3FC;\n",
              "    }\n",
              "\n",
              "    [theme=dark] .colab-df-convert:hover {\n",
              "      background-color: #434B5C;\n",
              "      box-shadow: 0px 1px 3px 1px rgba(0, 0, 0, 0.15);\n",
              "      filter: drop-shadow(0px 1px 2px rgba(0, 0, 0, 0.3));\n",
              "      fill: #FFFFFF;\n",
              "    }\n",
              "  </style>\n",
              "\n",
              "    <script>\n",
              "      const buttonEl =\n",
              "        document.querySelector('#df-0cce96b1-fd61-4cc1-92c2-689a0d218731 button.colab-df-convert');\n",
              "      buttonEl.style.display =\n",
              "        google.colab.kernel.accessAllowed ? 'block' : 'none';\n",
              "\n",
              "      async function convertToInteractive(key) {\n",
              "        const element = document.querySelector('#df-0cce96b1-fd61-4cc1-92c2-689a0d218731');\n",
              "        const dataTable =\n",
              "          await google.colab.kernel.invokeFunction('convertToInteractive',\n",
              "                                                    [key], {});\n",
              "        if (!dataTable) return;\n",
              "\n",
              "        const docLinkHtml = 'Like what you see? Visit the ' +\n",
              "          '<a target=\"_blank\" href=https://colab.research.google.com/notebooks/data_table.ipynb>data table notebook</a>'\n",
              "          + ' to learn more about interactive tables.';\n",
              "        element.innerHTML = '';\n",
              "        dataTable['output_type'] = 'display_data';\n",
              "        await google.colab.output.renderOutput(dataTable, element);\n",
              "        const docLink = document.createElement('div');\n",
              "        docLink.innerHTML = docLinkHtml;\n",
              "        element.appendChild(docLink);\n",
              "      }\n",
              "    </script>\n",
              "  </div>\n",
              "\n",
              "\n",
              "<div id=\"df-f537802b-21ae-454b-bd98-a2a3dd19395f\">\n",
              "  <button class=\"colab-df-quickchart\" onclick=\"quickchart('df-f537802b-21ae-454b-bd98-a2a3dd19395f')\"\n",
              "            title=\"Suggest charts\"\n",
              "            style=\"display:none;\">\n",
              "\n",
              "<svg xmlns=\"http://www.w3.org/2000/svg\" height=\"24px\"viewBox=\"0 0 24 24\"\n",
              "     width=\"24px\">\n",
              "    <g>\n",
              "        <path d=\"M19 3H5c-1.1 0-2 .9-2 2v14c0 1.1.9 2 2 2h14c1.1 0 2-.9 2-2V5c0-1.1-.9-2-2-2zM9 17H7v-7h2v7zm4 0h-2V7h2v10zm4 0h-2v-4h2v4z\"/>\n",
              "    </g>\n",
              "</svg>\n",
              "  </button>\n",
              "\n",
              "<style>\n",
              "  .colab-df-quickchart {\n",
              "      --bg-color: #E8F0FE;\n",
              "      --fill-color: #1967D2;\n",
              "      --hover-bg-color: #E2EBFA;\n",
              "      --hover-fill-color: #174EA6;\n",
              "      --disabled-fill-color: #AAA;\n",
              "      --disabled-bg-color: #DDD;\n",
              "  }\n",
              "\n",
              "  [theme=dark] .colab-df-quickchart {\n",
              "      --bg-color: #3B4455;\n",
              "      --fill-color: #D2E3FC;\n",
              "      --hover-bg-color: #434B5C;\n",
              "      --hover-fill-color: #FFFFFF;\n",
              "      --disabled-bg-color: #3B4455;\n",
              "      --disabled-fill-color: #666;\n",
              "  }\n",
              "\n",
              "  .colab-df-quickchart {\n",
              "    background-color: var(--bg-color);\n",
              "    border: none;\n",
              "    border-radius: 50%;\n",
              "    cursor: pointer;\n",
              "    display: none;\n",
              "    fill: var(--fill-color);\n",
              "    height: 32px;\n",
              "    padding: 0;\n",
              "    width: 32px;\n",
              "  }\n",
              "\n",
              "  .colab-df-quickchart:hover {\n",
              "    background-color: var(--hover-bg-color);\n",
              "    box-shadow: 0 1px 2px rgba(60, 64, 67, 0.3), 0 1px 3px 1px rgba(60, 64, 67, 0.15);\n",
              "    fill: var(--button-hover-fill-color);\n",
              "  }\n",
              "\n",
              "  .colab-df-quickchart-complete:disabled,\n",
              "  .colab-df-quickchart-complete:disabled:hover {\n",
              "    background-color: var(--disabled-bg-color);\n",
              "    fill: var(--disabled-fill-color);\n",
              "    box-shadow: none;\n",
              "  }\n",
              "\n",
              "  .colab-df-spinner {\n",
              "    border: 2px solid var(--fill-color);\n",
              "    border-color: transparent;\n",
              "    border-bottom-color: var(--fill-color);\n",
              "    animation:\n",
              "      spin 1s steps(1) infinite;\n",
              "  }\n",
              "\n",
              "  @keyframes spin {\n",
              "    0% {\n",
              "      border-color: transparent;\n",
              "      border-bottom-color: var(--fill-color);\n",
              "      border-left-color: var(--fill-color);\n",
              "    }\n",
              "    20% {\n",
              "      border-color: transparent;\n",
              "      border-left-color: var(--fill-color);\n",
              "      border-top-color: var(--fill-color);\n",
              "    }\n",
              "    30% {\n",
              "      border-color: transparent;\n",
              "      border-left-color: var(--fill-color);\n",
              "      border-top-color: var(--fill-color);\n",
              "      border-right-color: var(--fill-color);\n",
              "    }\n",
              "    40% {\n",
              "      border-color: transparent;\n",
              "      border-right-color: var(--fill-color);\n",
              "      border-top-color: var(--fill-color);\n",
              "    }\n",
              "    60% {\n",
              "      border-color: transparent;\n",
              "      border-right-color: var(--fill-color);\n",
              "    }\n",
              "    80% {\n",
              "      border-color: transparent;\n",
              "      border-right-color: var(--fill-color);\n",
              "      border-bottom-color: var(--fill-color);\n",
              "    }\n",
              "    90% {\n",
              "      border-color: transparent;\n",
              "      border-bottom-color: var(--fill-color);\n",
              "    }\n",
              "  }\n",
              "</style>\n",
              "\n",
              "  <script>\n",
              "    async function quickchart(key) {\n",
              "      const quickchartButtonEl =\n",
              "        document.querySelector('#' + key + ' button');\n",
              "      quickchartButtonEl.disabled = true;  // To prevent multiple clicks.\n",
              "      quickchartButtonEl.classList.add('colab-df-spinner');\n",
              "      try {\n",
              "        const charts = await google.colab.kernel.invokeFunction(\n",
              "            'suggestCharts', [key], {});\n",
              "      } catch (error) {\n",
              "        console.error('Error during call to suggestCharts:', error);\n",
              "      }\n",
              "      quickchartButtonEl.classList.remove('colab-df-spinner');\n",
              "      quickchartButtonEl.classList.add('colab-df-quickchart-complete');\n",
              "    }\n",
              "    (() => {\n",
              "      let quickchartButtonEl =\n",
              "        document.querySelector('#df-f537802b-21ae-454b-bd98-a2a3dd19395f button');\n",
              "      quickchartButtonEl.style.display =\n",
              "        google.colab.kernel.accessAllowed ? 'block' : 'none';\n",
              "    })();\n",
              "  </script>\n",
              "</div>\n",
              "\n",
              "    </div>\n",
              "  </div>\n"
            ],
            "application/vnd.google.colaboratory.intrinsic+json": {
              "type": "dataframe",
              "variable_name": "data",
              "summary": "{\n  \"name\": \"data\",\n  \"rows\": 10015,\n  \"fields\": [\n    {\n      \"column\": \"image\",\n      \"properties\": {\n        \"dtype\": \"string\",\n        \"num_unique_values\": 10015,\n        \"samples\": [\n          \"ISIC_0025923\",\n          \"ISIC_0032434\",\n          \"ISIC_0026474\"\n        ],\n        \"semantic_type\": \"\",\n        \"description\": \"\"\n      }\n    },\n    {\n      \"column\": \"MEL\",\n      \"properties\": {\n        \"dtype\": \"number\",\n        \"std\": 0.3143128284506746,\n        \"min\": 0.0,\n        \"max\": 1.0,\n        \"num_unique_values\": 2,\n        \"samples\": [\n          1.0,\n          0.0\n        ],\n        \"semantic_type\": \"\",\n        \"description\": \"\"\n      }\n    },\n    {\n      \"column\": \"NV\",\n      \"properties\": {\n        \"dtype\": \"number\",\n        \"std\": 0.4704182019844714,\n        \"min\": 0.0,\n        \"max\": 1.0,\n        \"num_unique_values\": 2,\n        \"samples\": [\n          0.0,\n          1.0\n        ],\n        \"semantic_type\": \"\",\n        \"description\": \"\"\n      }\n    },\n    {\n      \"column\": \"BCC\",\n      \"properties\": {\n        \"dtype\": \"number\",\n        \"std\": 0.220666775135237,\n        \"min\": 0.0,\n        \"max\": 1.0,\n        \"num_unique_values\": 2,\n        \"samples\": [\n          1.0,\n          0.0\n        ],\n        \"semantic_type\": \"\",\n        \"description\": \"\"\n      }\n    },\n    {\n      \"column\": \"AKIEC\",\n      \"properties\": {\n        \"dtype\": \"number\",\n        \"std\": 0.17773038065904223,\n        \"min\": 0.0,\n        \"max\": 1.0,\n        \"num_unique_values\": 2,\n        \"samples\": [\n          1.0,\n          0.0\n        ],\n        \"semantic_type\": \"\",\n        \"description\": \"\"\n      }\n    },\n    {\n      \"column\": \"BKL\",\n      \"properties\": {\n        \"dtype\": \"number\",\n        \"std\": 0.31257526336357166,\n        \"min\": 0.0,\n        \"max\": 1.0,\n        \"num_unique_values\": 2,\n        \"samples\": [\n          1.0,\n          0.0\n        ],\n        \"semantic_type\": \"\",\n        \"description\": \"\"\n      }\n    },\n    {\n      \"column\": \"DF\",\n      \"properties\": {\n        \"dtype\": \"number\",\n        \"std\": 0.10654602386106356,\n        \"min\": 0.0,\n        \"max\": 1.0,\n        \"num_unique_values\": 2,\n        \"samples\": [\n          1.0,\n          0.0\n        ],\n        \"semantic_type\": \"\",\n        \"description\": \"\"\n      }\n    },\n    {\n      \"column\": \"VASC\",\n      \"properties\": {\n        \"dtype\": \"number\",\n        \"std\": 0.11823320717632015,\n        \"min\": 0.0,\n        \"max\": 1.0,\n        \"num_unique_values\": 2,\n        \"samples\": [\n          1.0,\n          0.0\n        ],\n        \"semantic_type\": \"\",\n        \"description\": \"\"\n      }\n    },\n    {\n      \"column\": \"Class\",\n      \"properties\": {\n        \"dtype\": \"category\",\n        \"num_unique_values\": 7,\n        \"samples\": [\n          \"NV\",\n          \"MEL\"\n        ],\n        \"semantic_type\": \"\",\n        \"description\": \"\"\n      }\n    }\n  ]\n}"
            }
          },
          "metadata": {},
          "execution_count": 6
        }
      ]
    },
    {
      "cell_type": "code",
      "source": [
        "import os\n",
        "import shutil\n",
        "import pandas as pd\n",
        "from tqdm import tqdm\n",
        "\n",
        "# Assuming 'data' is a DataFrame that includes 'image' and 'Class' columns\n",
        "# Example: data = pd.read_csv('/path/to/your/data.csv')\n",
        "\n",
        "# Define the base directory\n",
        "base_dir = '/content/drive/MyDrive/Dataset/Skin_Lesion_Datasets/All/train3'\n",
        "lesion_types = data['Class'].unique().tolist() + ['Normal']  # Add 'Normal'\n",
        "\n",
        "# Create directories for each class plus 'Normal'\n",
        "for lesion_type in lesion_types:\n",
        "    os.makedirs(os.path.join(base_dir, lesion_type), exist_ok=True)\n",
        "\n",
        "# Define batch size\n",
        "batch_size = 1000  # Adjust the batch size as needed\n",
        "\n",
        "# Function to move images in batches\n",
        "def move_images_batch(data_batch):\n",
        "    for index, row in tqdm(data_batch.iterrows(), total=data_batch.shape[0], desc=\"Moving Images\"):\n",
        "        file_path = f\"/content/drive/MyDrive/Dataset/Skin_Lesion_Datasets/All/images/{row['image']}.jpg\"\n",
        "        if os.path.exists(file_path):\n",
        "            shutil.copy(file_path, os.path.join(base_dir, row['Class']))\n",
        "\n",
        "# Process the data in batches\n",
        "num_batches = (len(data) // batch_size) + 1\n",
        "for i in range(num_batches):\n",
        "    start_idx = i * batch_size\n",
        "    end_idx = (i + 1) * batch_size\n",
        "    data_batch = data[start_idx:end_idx]\n",
        "    move_images_batch(data_batch)\n",
        "\n",
        "print(\"All images have been moved to their respective directories.\")\n"
      ],
      "metadata": {
        "execution": {
          "iopub.status.busy": "2024-05-23T13:05:19.593678Z",
          "iopub.execute_input": "2024-05-23T13:05:19.594562Z",
          "iopub.status.idle": "2024-05-23T13:07:10.425348Z",
          "shell.execute_reply.started": "2024-05-23T13:05:19.594528Z",
          "shell.execute_reply": "2024-05-23T13:07:10.424512Z"
        },
        "trusted": true,
        "id": "aJ26GPXGtdaj",
        "colab": {
          "base_uri": "https://localhost:8080/"
        },
        "outputId": "714fcd31-27b8-486d-d4d6-54dfee922558"
      },
      "execution_count": 12,
      "outputs": [
        {
          "output_type": "stream",
          "name": "stderr",
          "text": [
            "Moving Images: 100%|██████████| 1000/1000 [00:29<00:00, 33.78it/s]\n",
            "Moving Images: 100%|██████████| 1000/1000 [00:28<00:00, 34.50it/s]\n",
            "Moving Images: 100%|██████████| 1000/1000 [00:27<00:00, 35.96it/s]\n",
            "Moving Images: 100%|██████████| 1000/1000 [00:29<00:00, 33.76it/s]\n",
            "Moving Images: 100%|██████████| 1000/1000 [00:29<00:00, 34.24it/s]\n",
            "Moving Images: 100%|██████████| 1000/1000 [00:28<00:00, 34.49it/s]\n",
            "Moving Images: 100%|██████████| 1000/1000 [00:31<00:00, 31.47it/s]\n",
            "Moving Images: 100%|██████████| 1000/1000 [00:29<00:00, 33.49it/s]\n",
            "Moving Images: 100%|██████████| 1000/1000 [00:29<00:00, 34.04it/s]\n",
            "Moving Images: 100%|██████████| 1000/1000 [00:27<00:00, 36.34it/s]\n",
            "Moving Images: 100%|██████████| 15/15 [00:00<00:00, 48.44it/s]"
          ]
        },
        {
          "output_type": "stream",
          "name": "stdout",
          "text": [
            "All images have been moved to their respective directories.\n"
          ]
        },
        {
          "output_type": "stream",
          "name": "stderr",
          "text": [
            "\n"
          ]
        }
      ]
    },
    {
      "cell_type": "code",
      "source": [
        "import os\n",
        "import shutil\n",
        "from tqdm import tqdm\n",
        "\n",
        "# Define the directories containing normal images\n",
        "normal_dirs = [\n",
        "    '/content/drive/MyDrive/Dataset/Skin_Lesion_Datasets/All/train/Normal',\n",
        "    '/content/drive/MyDrive/Dataset/Skin_Lesion_Datasets/All/our_normal_skin'\n",
        "]\n",
        "\n",
        "# Define the target directory for normal images\n",
        "target_dir = os.path.join(base_dir, 'Normal')\n",
        "os.makedirs(target_dir, exist_ok=True)\n",
        "\n",
        "# Function to copy files with progress bar\n",
        "def copy_files_with_progress(source_dir, target_dir):\n",
        "    files = os.listdir(source_dir)\n",
        "    for file in tqdm(files, desc=f\"Copying from {source_dir}\"):\n",
        "        shutil.copy(os.path.join(source_dir, file), target_dir)\n",
        "\n",
        "# Copy normal images from each directory\n",
        "for ndir in normal_dirs:\n",
        "    copy_files_with_progress(ndir, target_dir)\n",
        "\n",
        "print(\"All normal images have been copied to the 'Normal' directory.\")\n"
      ],
      "metadata": {
        "id": "9jl1nqxgQNzm",
        "outputId": "2569ad81-b4cc-489e-fb64-842c255af7f2",
        "colab": {
          "base_uri": "https://localhost:8080/"
        }
      },
      "execution_count": 13,
      "outputs": [
        {
          "output_type": "stream",
          "name": "stderr",
          "text": [
            "Copying from /content/drive/MyDrive/Dataset/Skin_Lesion_Datasets/All/train/Normal: 100%|██████████| 583/583 [00:13<00:00, 41.83it/s]\n",
            "Copying from /content/drive/MyDrive/Dataset/Skin_Lesion_Datasets/All/our_normal_skin: 100%|██████████| 125/125 [00:03<00:00, 35.54it/s]"
          ]
        },
        {
          "output_type": "stream",
          "name": "stdout",
          "text": [
            "All normal images have been copied to the 'Normal' directory.\n"
          ]
        },
        {
          "output_type": "stream",
          "name": "stderr",
          "text": [
            "\n"
          ]
        }
      ]
    },
    {
      "cell_type": "code",
      "source": [],
      "metadata": {
        "id": "DlciyuYv2a41"
      },
      "execution_count": null,
      "outputs": []
    },
    {
      "cell_type": "code",
      "source": [
        "source_dir = '/content/drive/MyDrive/Dataset/Skin_Lesion_Datasets/All/train3'\n",
        "target_dir_train = '/content/drive/MyDrive/Dataset/Skin_Lesion_Datasets/All/restricted3/train_set'\n",
        "target_dir_val = '/content/drive/MyDrive/Dataset/Skin_Lesion_Datasets/All/restricted3/val_set'\n",
        "\n",
        "os.makedirs(target_dir_train, exist_ok=True)\n",
        "os.makedirs(target_dir_val, exist_ok=True)\n",
        "\n",
        "def restrict_images_per_class(source, target_train, target_val, max_images=300, val_percent=0.1):\n",
        "    class_counts = {}\n",
        "    for class_folder in os.listdir(source):\n",
        "        class_path = os.path.join(source, class_folder)\n",
        "        images = glob(os.path.join(class_path, '*.jpg'))  # Adjust the pattern if different format\n",
        "        np.random.shuffle(images)  # Shuffle to randomize selection\n",
        "\n",
        "        # Limit to max_images if there are more than that\n",
        "        limited_images = images[:max_images]\n",
        "        num_val = int(len(limited_images) * val_percent)  # 20% of the limited images for validation\n",
        "\n",
        "        # Separate out the validation and training images\n",
        "        validation_images = limited_images[:num_val]\n",
        "        training_images = limited_images[num_val:]\n",
        "\n",
        "        # Create target directories for class\n",
        "        target_train_class_path = os.path.join(target_train, class_folder)\n",
        "        target_val_class_path = os.path.join(target_val, class_folder)\n",
        "        os.makedirs(target_train_class_path, exist_ok=True)\n",
        "        os.makedirs(target_val_class_path, exist_ok=True)\n",
        "\n",
        "        # Copy validation images\n",
        "        for img_path in validation_images:\n",
        "            shutil.copy(img_path, target_val_class_path)\n",
        "\n",
        "        # Copy training images\n",
        "        for img_path in training_images:\n",
        "            shutil.copy(img_path, target_train_class_path)\n",
        "\n",
        "        # Record the number of images used for training\n",
        "        class_counts[class_folder] = len(training_images)\n",
        "\n",
        "    return class_counts\n",
        "\n",
        "class_counts_train = restrict_images_per_class(source_dir, target_dir_train, target_dir_val)\n"
      ],
      "metadata": {
        "execution": {
          "iopub.status.busy": "2024-05-23T13:07:10.426777Z",
          "iopub.execute_input": "2024-05-23T13:07:10.427062Z",
          "iopub.status.idle": "2024-05-23T13:07:11.062016Z",
          "shell.execute_reply.started": "2024-05-23T13:07:10.427038Z",
          "shell.execute_reply": "2024-05-23T13:07:11.061146Z"
        },
        "trusted": true,
        "id": "8E986Sf3tdak"
      },
      "execution_count": 14,
      "outputs": []
    },
    {
      "cell_type": "code",
      "source": [],
      "metadata": {
        "id": "UpZPmEQ-3abt"
      },
      "execution_count": 14,
      "outputs": []
    },
    {
      "cell_type": "code",
      "source": [
        "class_counts_train"
      ],
      "metadata": {
        "execution": {
          "iopub.status.busy": "2024-05-23T13:07:15.499031Z",
          "iopub.execute_input": "2024-05-23T13:07:15.499402Z",
          "iopub.status.idle": "2024-05-23T13:07:15.506038Z",
          "shell.execute_reply.started": "2024-05-23T13:07:15.499374Z",
          "shell.execute_reply": "2024-05-23T13:07:15.505037Z"
        },
        "trusted": true,
        "colab": {
          "base_uri": "https://localhost:8080/"
        },
        "id": "-T0HkXxQtdam",
        "outputId": "c9c37c3f-9e18-4316-81a2-cefd7f6ec693"
      },
      "execution_count": 15,
      "outputs": [
        {
          "output_type": "execute_result",
          "data": {
            "text/plain": [
              "{'NV': 270,\n",
              " 'MEL': 270,\n",
              " 'BKL': 270,\n",
              " 'DF': 104,\n",
              " 'AKIEC': 270,\n",
              " 'BCC': 270,\n",
              " 'VASC': 128,\n",
              " 'Normal': 270}"
            ]
          },
          "metadata": {},
          "execution_count": 15
        }
      ]
    },
    {
      "cell_type": "code",
      "source": [
        "def count_files_in_classes(directory):\n",
        "    class_file_counts = {}\n",
        "    for class_folder in os.listdir(directory):\n",
        "        class_path = os.path.join(directory, class_folder)\n",
        "        # Count all .jpg files; modify the pattern if using different file types\n",
        "        file_count = len(glob(os.path.join(class_path, '*.jpg')))\n",
        "        class_file_counts[class_folder] = file_count\n",
        "    return class_file_counts\n",
        "\n",
        "# Paths to the training and validation directories\n",
        "train_dir = '/content/drive/MyDrive/Dataset/Skin_Lesion_Datasets/All/restricted3/train_set'\n",
        "val_dir = '/content/drive/MyDrive/Dataset/Skin_Lesion_Datasets/All/restricted3/val_set'\n",
        "\n",
        "# Count files in each directory\n",
        "train_class_counts = count_files_in_classes(train_dir)\n",
        "val_class_counts = count_files_in_classes(val_dir)\n",
        "\n",
        "# Print the results\n",
        "print(\"Training Set Class Counts:\")\n",
        "for class_name, count in train_class_counts.items():\n",
        "    print(f\"{class_name}: {count} files\")\n",
        "\n",
        "print(\"\\nValidation Set Class Counts:\")\n",
        "for class_name, count in val_class_counts.items():\n",
        "    print(f\"{class_name}: {count} files\")\n"
      ],
      "metadata": {
        "execution": {
          "iopub.status.busy": "2024-05-23T13:07:43.434567Z",
          "iopub.execute_input": "2024-05-23T13:07:43.435415Z",
          "iopub.status.idle": "2024-05-23T13:07:43.440109Z",
          "shell.execute_reply.started": "2024-05-23T13:07:43.435383Z",
          "shell.execute_reply": "2024-05-23T13:07:43.439039Z"
        },
        "trusted": true,
        "colab": {
          "base_uri": "https://localhost:8080/"
        },
        "id": "vFJQGLNbtdan",
        "outputId": "26c7f01c-25b7-4a20-ef36-9606635e6b7b"
      },
      "execution_count": 8,
      "outputs": [
        {
          "output_type": "stream",
          "name": "stdout",
          "text": [
            "Training Set Class Counts:\n",
            "NV: 270 files\n",
            "MEL: 270 files\n",
            "BKL: 270 files\n",
            "DF: 104 files\n",
            "AKIEC: 270 files\n",
            "BCC: 270 files\n",
            "VASC: 128 files\n",
            "Normal: 270 files\n",
            "\n",
            "Validation Set Class Counts:\n",
            "NV: 30 files\n",
            "MEL: 30 files\n",
            "BKL: 30 files\n",
            "DF: 11 files\n",
            "AKIEC: 30 files\n",
            "BCC: 30 files\n",
            "VASC: 14 files\n",
            "Normal: 30 files\n"
          ]
        }
      ]
    },
    {
      "cell_type": "code",
      "source": [
        "height=224  # image height\n",
        "width=224   # image width\n",
        "channels=3  # number of coloor channels\n",
        "batch_size=40  # model batch size for training and evaluation\n",
        "img_shape=(height, width, channels)\n",
        "img_size=(height, width)"
      ],
      "metadata": {
        "execution": {
          "iopub.status.busy": "2024-05-23T11:21:24.220441Z",
          "iopub.execute_input": "2024-05-23T11:21:24.220828Z",
          "iopub.status.idle": "2024-05-23T11:21:24.225877Z",
          "shell.execute_reply.started": "2024-05-23T11:21:24.220797Z",
          "shell.execute_reply": "2024-05-23T11:21:24.224954Z"
        },
        "trusted": true,
        "id": "HehDiPuztdar"
      },
      "execution_count": 7,
      "outputs": []
    },
    {
      "cell_type": "code",
      "source": [
        "def load_images_and_labels(base_dir, img_size=(256, 256), augment=False):\n",
        "    images = []\n",
        "    labels = []\n",
        "    class_names = sorted(os.listdir(base_dir))  # Ensure that the order is consistent\n",
        "    class_indices = {name: index for index, name in enumerate(class_names)}\n",
        "\n",
        "    for folder in class_names:\n",
        "        folder_path = os.path.join(base_dir, folder)\n",
        "        for img_file in os.listdir(folder_path):\n",
        "            img_path = os.path.join(folder_path, img_file)\n",
        "            img = load_img(img_path, color_mode='rgb', target_size=img_size)  # Corrected color_mode to 'rgb'\n",
        "            img_array = img_to_array(img)\n",
        "\n",
        "            if augment:\n",
        "                img_array = apply_random_transformations(img_array)\n",
        "\n",
        "            images.append(img_array)\n",
        "            labels.append(class_indices[folder])\n",
        "\n",
        "    images = np.array(images, dtype='float32') / 255.0  # Normalize the images\n",
        "    labels = to_categorical(labels, num_classes=len(class_names))  # Convert labels to one-hot encoding\n",
        "\n",
        "    return images, labels, class_indices\n",
        "\n",
        "def apply_random_transformations(image):\n",
        "    image = Image.fromarray(np.uint8(image))  # Convert to PIL image for transformations\n",
        "    # Random flip\n",
        "    if random.choice([True, False]):\n",
        "        image = image.transpose(Image.FLIP_LEFT_RIGHT)\n",
        "    if random.choice([True, False]):\n",
        "        image = image.transpose(Image.FLIP_TOP_BOTTOM)\n",
        "\n",
        "    # Random rotation\n",
        "    rotation = random.choice([0, 90, 180, 270])\n",
        "    image = image.rotate(rotation)\n",
        "\n",
        "    return np.array(image)\n",
        "\n",
        "# Specify the paths to your training and validation sets\n",
        "train_dir = '/content/drive/MyDrive/Dataset/Skin_Lesion_Datasets/All/restricted3/train_set'\n",
        "val_dir = '/content/drive/MyDrive/Dataset/Skin_Lesion_Datasets/All/restricted3/val_set'\n",
        "\n",
        "# Load training and validation data with augmentation for training data\n",
        "train_images, train_labels, train_class_indices = load_images_and_labels(train_dir, augment=True)\n",
        "val_images, val_labels, val_class_indices = load_images_and_labels(val_dir)\n",
        "\n",
        "print(\"Training and validation data loaded successfully.\")\n"
      ],
      "metadata": {
        "execution": {
          "iopub.status.busy": "2024-05-23T16:51:17.721174Z",
          "iopub.execute_input": "2024-05-23T16:51:17.721555Z",
          "iopub.status.idle": "2024-05-23T16:51:31.341564Z",
          "shell.execute_reply.started": "2024-05-23T16:51:17.721527Z",
          "shell.execute_reply": "2024-05-23T16:51:31.340619Z"
        },
        "trusted": true,
        "colab": {
          "base_uri": "https://localhost:8080/"
        },
        "id": "zoZ8jX52tdas",
        "outputId": "91d5f572-d066-47ee-f34c-6c53b7db53b5"
      },
      "execution_count": 8,
      "outputs": [
        {
          "output_type": "stream",
          "name": "stdout",
          "text": [
            "Training and validation data loaded successfully.\n"
          ]
        }
      ]
    },
    {
      "cell_type": "code",
      "source": [
        "# Assuming train_labels are already available as one-hot encoded arrays\n",
        "# Convert one-hot encoded train_labels to integer class labels\n",
        "train_labels_int = np.argmax(train_labels, axis=1)\n",
        "\n",
        "# Calculate class weights\n",
        "class_weights = compute_class_weight(\n",
        "    class_weight='balanced',\n",
        "    classes=np.unique(train_labels_int),\n",
        "    y=train_labels_int\n",
        ")\n",
        "\n",
        "# Convert class weights to a dictionary to pass to model.fit\n",
        "class_weight_dict = {i : class_weights[i] for i in range(len(class_weights))}\n",
        "\n",
        "print(\"Class weights:\", class_weight_dict)\n"
      ],
      "metadata": {
        "execution": {
          "iopub.status.busy": "2024-05-23T13:25:14.417993Z",
          "iopub.execute_input": "2024-05-23T13:25:14.418412Z",
          "iopub.status.idle": "2024-05-23T13:25:14.429470Z",
          "shell.execute_reply.started": "2024-05-23T13:25:14.418383Z",
          "shell.execute_reply": "2024-05-23T13:25:14.428569Z"
        },
        "trusted": true,
        "colab": {
          "base_uri": "https://localhost:8080/"
        },
        "id": "pNsFd0eCtdau",
        "outputId": "ebb67b76-ac09-4163-bf65-93124f2b5ae9"
      },
      "execution_count": 9,
      "outputs": [
        {
          "output_type": "stream",
          "name": "stdout",
          "text": [
            "Class weights: {0: 0.8574074074074074, 1: 0.8574074074074074, 2: 0.8574074074074074, 3: 2.2259615384615383, 4: 0.8574074074074074, 5: 0.8574074074074074, 6: 0.8574074074074074, 7: 1.80859375}\n"
          ]
        }
      ]
    },
    {
      "cell_type": "code",
      "source": [
        "import tensorflow as tf\n",
        "from tensorflow.keras.layers import Input, Conv2D, Multiply, GlobalAveragePooling2D, Dense, BatchNormalization, Dropout\n",
        "from tensorflow.keras.models import Model\n",
        "from tensorflow.keras.regularizers import l2\n",
        "from tensorflow.keras.applications import EfficientNetB1\n",
        "from tensorflow.keras.optimizers import Adam\n",
        "from tensorflow.keras import backend as K\n",
        "\n",
        "# Custom F1-score metric\n",
        "def f1_score(y_true, y_pred):\n",
        "    precision = tf.keras.metrics.Precision()(y_true, y_pred)\n",
        "    recall = tf.keras.metrics.Recall()(y_true, y_pred)\n",
        "    return 2 * ((precision * recall) / (precision + recall + K.epsilon()))"
      ],
      "metadata": {
        "id": "EYO5ycAy9_Zz"
      },
      "execution_count": 13,
      "outputs": []
    },
    {
      "cell_type": "code",
      "source": [
        "def build_attention_model(input_shape=(256, 256, 1), num_classes=8):\n",
        "    base_model = EfficientNetB1(include_top=False, weights=\"imagenet\", input_shape=(input_shape[0], input_shape[1], 3))\n",
        "\n",
        "    # Regularizer configuration\n",
        "    reg = l2(0.01)\n",
        "\n",
        "    # Feature extraction from the base model\n",
        "    x = base_model.output\n",
        "\n",
        "    # Attention Layer\n",
        "    attention_probs = Conv2D(1, (1, 1), activation='sigmoid', padding='same')(x)  # Single channel attention map\n",
        "    x = Multiply()([x, attention_probs])  # Modulate features with the attention map\n",
        "\n",
        "    # Pooling features\n",
        "    x = GlobalAveragePooling2D()(x)\n",
        "\n",
        "    # Adding regularized dense layers\n",
        "    x = Dense(256, activation='relu', kernel_regularizer=reg)(x)\n",
        "    x = BatchNormalization()(x)\n",
        "    x = Dropout(0.5)(x)\n",
        "\n",
        "    # Additional dense layer for more regularization\n",
        "    x = Dense(128, activation='relu', kernel_regularizer=reg)(x)\n",
        "    x = BatchNormalization()(x)\n",
        "    x = Dropout(0.5)(x)\n",
        "\n",
        "    # Output layer\n",
        "    predictions = Dense(num_classes, activation='softmax', kernel_regularizer=reg)(x)\n",
        "\n",
        "    # Constructing the final model\n",
        "    model = Model(inputs=base_model.input, outputs=predictions)\n",
        "    model.compile(optimizer=Adam(learning_rate=0.001), loss='categorical_crossentropy', metrics=['accuracy'])\n",
        "\n",
        "    return model\n",
        "\n",
        "# Create the model with the attention mechanism and enhanced regularization\n",
        "model_with_attention = build_attention_model()\n",
        "\n",
        "# Display the model summary to check the architecture\n",
        "# model_with_attention.summary()\n"
      ],
      "metadata": {
        "trusted": true,
        "id": "vPar3DtHtdav"
      },
      "execution_count": 19,
      "outputs": []
    },
    {
      "cell_type": "code",
      "source": [
        "# Define the EarlyStopping callback\n",
        "early_stopping = EarlyStopping(\n",
        "    monitor='val_loss',\n",
        "    patience=20,  # Adjust based on the sensitivity of your model's training dynamics\n",
        "    verbose=1,\n",
        "    restore_best_weights=True\n",
        ")\n",
        "\n",
        "# Define the ModelCheckpoint callback\n",
        "model_checkpoint = ModelCheckpoint(\n",
        "    'best_model.keras',\n",
        "    monitor='val_loss',\n",
        "    save_best_only=True,\n",
        "    verbose=1\n",
        ")\n",
        "\n",
        "# ReduceLROnPlateau to reduce learning rate when a metric has stopped improving\n",
        "reduce_lr = ReduceLROnPlateau(\n",
        "    monitor='val_loss',\n",
        "    factor=0.2,  # Reduce the learning rate by 20% if no improvement seen\n",
        "    patience=5,\n",
        "    min_lr=0.00001,  # Minimum learning rate to drop to\n",
        "    verbose=1\n",
        ")\n",
        "\n",
        "# Train the model with these callbacks\n",
        "history2 = model_with_attention.fit(\n",
        "    train_images, train_labels,\n",
        "    epochs=50,\n",
        "    batch_size=16,\n",
        "    validation_data=(val_images, val_labels),\n",
        "    class_weight=class_weight_dict,  # Include class weights if class imbalance is an issue\n",
        "    callbacks=[early_stopping, model_checkpoint, reduce_lr]\n",
        ")"
      ],
      "metadata": {
        "colab": {
          "base_uri": "https://localhost:8080/"
        },
        "id": "czruDAOa87Z6",
        "outputId": "bc5b8f36-700c-4554-fe4a-ffcd47c32cbc"
      },
      "execution_count": 20,
      "outputs": [
        {
          "output_type": "stream",
          "name": "stdout",
          "text": [
            "Epoch 1/50\n",
            "116/116 [==============================] - ETA: 0s - loss: 8.1181 - accuracy: 0.3072\n",
            "Epoch 1: val_loss improved from inf to 7.68319, saving model to best_model.keras\n",
            "116/116 [==============================] - 99s 340ms/step - loss: 8.1181 - accuracy: 0.3072 - val_loss: 7.6832 - val_accuracy: 0.1463 - lr: 0.0010\n",
            "Epoch 2/50\n",
            "116/116 [==============================] - ETA: 0s - loss: 6.6657 - accuracy: 0.4136\n",
            "Epoch 2: val_loss did not improve from 7.68319\n",
            "116/116 [==============================] - 29s 254ms/step - loss: 6.6657 - accuracy: 0.4136 - val_loss: 10.2377 - val_accuracy: 0.1463 - lr: 0.0010\n",
            "Epoch 3/50\n",
            "116/116 [==============================] - ETA: 0s - loss: 5.3517 - accuracy: 0.5092\n",
            "Epoch 3: val_loss did not improve from 7.68319\n",
            "116/116 [==============================] - 30s 260ms/step - loss: 5.3517 - accuracy: 0.5092 - val_loss: 8.0798 - val_accuracy: 0.1366 - lr: 0.0010\n",
            "Epoch 4/50\n",
            "116/116 [==============================] - ETA: 0s - loss: 4.2846 - accuracy: 0.5643\n",
            "Epoch 4: val_loss did not improve from 7.68319\n",
            "116/116 [==============================] - 30s 255ms/step - loss: 4.2846 - accuracy: 0.5643 - val_loss: 9.5418 - val_accuracy: 0.1463 - lr: 0.0010\n",
            "Epoch 5/50\n",
            "116/116 [==============================] - ETA: 0s - loss: 3.3551 - accuracy: 0.6474\n",
            "Epoch 5: val_loss did not improve from 7.68319\n",
            "116/116 [==============================] - 30s 255ms/step - loss: 3.3551 - accuracy: 0.6474 - val_loss: 94.0215 - val_accuracy: 0.0683 - lr: 0.0010\n",
            "Epoch 6/50\n",
            "116/116 [==============================] - ETA: 0s - loss: 2.7460 - accuracy: 0.6577\n",
            "Epoch 6: val_loss improved from 7.68319 to 5.83893, saving model to best_model.keras\n",
            "116/116 [==============================] - 32s 274ms/step - loss: 2.7460 - accuracy: 0.6577 - val_loss: 5.8389 - val_accuracy: 0.1463 - lr: 0.0010\n",
            "Epoch 7/50\n",
            "116/116 [==============================] - ETA: 0s - loss: 2.0937 - accuracy: 0.7570\n",
            "Epoch 7: val_loss did not improve from 5.83893\n",
            "116/116 [==============================] - 30s 256ms/step - loss: 2.0937 - accuracy: 0.7570 - val_loss: 9.8741 - val_accuracy: 0.1463 - lr: 0.0010\n",
            "Epoch 8/50\n",
            "116/116 [==============================] - ETA: 0s - loss: 1.7209 - accuracy: 0.7705\n",
            "Epoch 8: val_loss did not improve from 5.83893\n",
            "116/116 [==============================] - 30s 256ms/step - loss: 1.7209 - accuracy: 0.7705 - val_loss: 227.6818 - val_accuracy: 0.1024 - lr: 0.0010\n",
            "Epoch 9/50\n",
            "116/116 [==============================] - ETA: 0s - loss: 1.4792 - accuracy: 0.7829\n",
            "Epoch 9: val_loss did not improve from 5.83893\n",
            "116/116 [==============================] - 29s 254ms/step - loss: 1.4792 - accuracy: 0.7829 - val_loss: 1191.4943 - val_accuracy: 0.0683 - lr: 0.0010\n",
            "Epoch 10/50\n",
            "116/116 [==============================] - ETA: 0s - loss: 1.2784 - accuracy: 0.7970\n",
            "Epoch 10: val_loss improved from 5.83893 to 4.32131, saving model to best_model.keras\n",
            "116/116 [==============================] - 31s 268ms/step - loss: 1.2784 - accuracy: 0.7970 - val_loss: 4.3213 - val_accuracy: 0.1317 - lr: 0.0010\n",
            "Epoch 11/50\n",
            "116/116 [==============================] - ETA: 0s - loss: 1.0811 - accuracy: 0.8164\n",
            "Epoch 11: val_loss did not improve from 4.32131\n",
            "116/116 [==============================] - 30s 254ms/step - loss: 1.0811 - accuracy: 0.8164 - val_loss: 7.1397 - val_accuracy: 0.1366 - lr: 0.0010\n",
            "Epoch 12/50\n",
            "116/116 [==============================] - ETA: 0s - loss: 0.8804 - accuracy: 0.8677\n",
            "Epoch 12: val_loss did not improve from 4.32131\n",
            "116/116 [==============================] - 30s 256ms/step - loss: 0.8804 - accuracy: 0.8677 - val_loss: 5.7671 - val_accuracy: 0.1463 - lr: 0.0010\n",
            "Epoch 13/50\n",
            "116/116 [==============================] - ETA: 0s - loss: 0.8298 - accuracy: 0.8634\n",
            "Epoch 13: val_loss did not improve from 4.32131\n",
            "116/116 [==============================] - 30s 260ms/step - loss: 0.8298 - accuracy: 0.8634 - val_loss: 7.3788 - val_accuracy: 0.1463 - lr: 0.0010\n",
            "Epoch 14/50\n",
            "116/116 [==============================] - ETA: 0s - loss: 0.7693 - accuracy: 0.8602\n",
            "Epoch 14: val_loss did not improve from 4.32131\n",
            "116/116 [==============================] - 30s 260ms/step - loss: 0.7693 - accuracy: 0.8602 - val_loss: 1191.1270 - val_accuracy: 0.1171 - lr: 0.0010\n",
            "Epoch 15/50\n",
            "116/116 [==============================] - ETA: 0s - loss: 0.7493 - accuracy: 0.8704\n",
            "Epoch 15: val_loss did not improve from 4.32131\n",
            "\n",
            "Epoch 15: ReduceLROnPlateau reducing learning rate to 0.00020000000949949026.\n",
            "116/116 [==============================] - 30s 256ms/step - loss: 0.7493 - accuracy: 0.8704 - val_loss: 5.5369 - val_accuracy: 0.1463 - lr: 0.0010\n",
            "Epoch 16/50\n",
            "116/116 [==============================] - ETA: 0s - loss: 0.5782 - accuracy: 0.9255\n",
            "Epoch 16: val_loss improved from 4.32131 to 3.98503, saving model to best_model.keras\n",
            "116/116 [==============================] - 32s 277ms/step - loss: 0.5782 - accuracy: 0.9255 - val_loss: 3.9850 - val_accuracy: 0.2000 - lr: 2.0000e-04\n",
            "Epoch 17/50\n",
            "116/116 [==============================] - ETA: 0s - loss: 0.4442 - accuracy: 0.9573\n",
            "Epoch 17: val_loss improved from 3.98503 to 3.38153, saving model to best_model.keras\n",
            "116/116 [==============================] - 31s 270ms/step - loss: 0.4442 - accuracy: 0.9573 - val_loss: 3.3815 - val_accuracy: 0.2927 - lr: 2.0000e-04\n",
            "Epoch 18/50\n",
            "116/116 [==============================] - ETA: 0s - loss: 0.4084 - accuracy: 0.9606\n",
            "Epoch 18: val_loss did not improve from 3.38153\n",
            "116/116 [==============================] - 30s 261ms/step - loss: 0.4084 - accuracy: 0.9606 - val_loss: 4.6865 - val_accuracy: 0.2049 - lr: 2.0000e-04\n",
            "Epoch 19/50\n",
            "116/116 [==============================] - ETA: 0s - loss: 0.3675 - accuracy: 0.9687\n",
            "Epoch 19: val_loss did not improve from 3.38153\n",
            "116/116 [==============================] - 30s 261ms/step - loss: 0.3675 - accuracy: 0.9687 - val_loss: 3.5302 - val_accuracy: 0.2878 - lr: 2.0000e-04\n",
            "Epoch 20/50\n",
            "116/116 [==============================] - ETA: 0s - loss: 0.3226 - accuracy: 0.9795\n",
            "Epoch 20: val_loss did not improve from 3.38153\n",
            "116/116 [==============================] - 30s 255ms/step - loss: 0.3226 - accuracy: 0.9795 - val_loss: 5.7835 - val_accuracy: 0.1268 - lr: 2.0000e-04\n",
            "Epoch 21/50\n",
            "116/116 [==============================] - ETA: 0s - loss: 0.2966 - accuracy: 0.9806\n",
            "Epoch 21: val_loss did not improve from 3.38153\n",
            "116/116 [==============================] - 30s 255ms/step - loss: 0.2966 - accuracy: 0.9806 - val_loss: 3.5624 - val_accuracy: 0.2585 - lr: 2.0000e-04\n",
            "Epoch 22/50\n",
            "116/116 [==============================] - ETA: 0s - loss: 0.2712 - accuracy: 0.9827\n",
            "Epoch 22: val_loss did not improve from 3.38153\n",
            "\n",
            "Epoch 22: ReduceLROnPlateau reducing learning rate to 4.0000001899898055e-05.\n",
            "116/116 [==============================] - 30s 261ms/step - loss: 0.2712 - accuracy: 0.9827 - val_loss: 32.2109 - val_accuracy: 0.1317 - lr: 2.0000e-04\n",
            "Epoch 23/50\n",
            "116/116 [==============================] - ETA: 0s - loss: 0.2385 - accuracy: 0.9951\n",
            "Epoch 23: val_loss did not improve from 3.38153\n",
            "116/116 [==============================] - 30s 261ms/step - loss: 0.2385 - accuracy: 0.9951 - val_loss: 6.3369 - val_accuracy: 0.1512 - lr: 4.0000e-05\n",
            "Epoch 24/50\n",
            "116/116 [==============================] - ETA: 0s - loss: 0.2466 - accuracy: 0.9892\n",
            "Epoch 24: val_loss did not improve from 3.38153\n",
            "116/116 [==============================] - 30s 255ms/step - loss: 0.2466 - accuracy: 0.9892 - val_loss: 4.6221 - val_accuracy: 0.2146 - lr: 4.0000e-05\n",
            "Epoch 25/50\n",
            "116/116 [==============================] - ETA: 0s - loss: 0.2417 - accuracy: 0.9816\n",
            "Epoch 25: val_loss improved from 3.38153 to 1.14134, saving model to best_model.keras\n",
            "116/116 [==============================] - 31s 270ms/step - loss: 0.2417 - accuracy: 0.9816 - val_loss: 1.1413 - val_accuracy: 0.7463 - lr: 4.0000e-05\n",
            "Epoch 26/50\n",
            "116/116 [==============================] - ETA: 0s - loss: 0.2302 - accuracy: 0.9935\n",
            "Epoch 26: val_loss did not improve from 1.14134\n",
            "116/116 [==============================] - 30s 257ms/step - loss: 0.2302 - accuracy: 0.9935 - val_loss: 1.2750 - val_accuracy: 0.6683 - lr: 4.0000e-05\n",
            "Epoch 27/50\n",
            "116/116 [==============================] - ETA: 0s - loss: 0.2125 - accuracy: 0.9941\n",
            "Epoch 27: val_loss did not improve from 1.14134\n",
            "116/116 [==============================] - 30s 261ms/step - loss: 0.2125 - accuracy: 0.9941 - val_loss: 1.1690 - val_accuracy: 0.7122 - lr: 4.0000e-05\n",
            "Epoch 28/50\n",
            "116/116 [==============================] - ETA: 0s - loss: 0.2156 - accuracy: 0.9935\n",
            "Epoch 28: val_loss improved from 1.14134 to 0.95061, saving model to best_model.keras\n",
            "116/116 [==============================] - 31s 269ms/step - loss: 0.2156 - accuracy: 0.9935 - val_loss: 0.9506 - val_accuracy: 0.7512 - lr: 4.0000e-05\n",
            "Epoch 29/50\n",
            "116/116 [==============================] - ETA: 0s - loss: 0.2067 - accuracy: 0.9962\n",
            "Epoch 29: val_loss did not improve from 0.95061\n",
            "116/116 [==============================] - 30s 256ms/step - loss: 0.2067 - accuracy: 0.9962 - val_loss: 1.6894 - val_accuracy: 0.5659 - lr: 4.0000e-05\n",
            "Epoch 30/50\n",
            "116/116 [==============================] - ETA: 0s - loss: 0.2107 - accuracy: 0.9897\n",
            "Epoch 30: val_loss did not improve from 0.95061\n",
            "116/116 [==============================] - 30s 257ms/step - loss: 0.2107 - accuracy: 0.9897 - val_loss: 1.7448 - val_accuracy: 0.6049 - lr: 4.0000e-05\n",
            "Epoch 31/50\n",
            "116/116 [==============================] - ETA: 0s - loss: 0.2046 - accuracy: 0.9924\n",
            "Epoch 31: val_loss did not improve from 0.95061\n",
            "116/116 [==============================] - 30s 256ms/step - loss: 0.2046 - accuracy: 0.9924 - val_loss: 2.5516 - val_accuracy: 0.4585 - lr: 4.0000e-05\n",
            "Epoch 32/50\n",
            "116/116 [==============================] - ETA: 0s - loss: 0.1977 - accuracy: 0.9935\n",
            "Epoch 32: val_loss did not improve from 0.95061\n",
            "116/116 [==============================] - 30s 261ms/step - loss: 0.1977 - accuracy: 0.9935 - val_loss: 2.8865 - val_accuracy: 0.3707 - lr: 4.0000e-05\n",
            "Epoch 33/50\n",
            "116/116 [==============================] - ETA: 0s - loss: 0.1899 - accuracy: 0.9941\n",
            "Epoch 33: val_loss did not improve from 0.95061\n",
            "\n",
            "Epoch 33: ReduceLROnPlateau reducing learning rate to 1e-05.\n",
            "116/116 [==============================] - 30s 261ms/step - loss: 0.1899 - accuracy: 0.9941 - val_loss: 1.6202 - val_accuracy: 0.6341 - lr: 4.0000e-05\n",
            "Epoch 34/50\n",
            "116/116 [==============================] - ETA: 0s - loss: 0.1857 - accuracy: 0.9951\n",
            "Epoch 34: val_loss improved from 0.95061 to 0.88896, saving model to best_model.keras\n",
            "116/116 [==============================] - 31s 270ms/step - loss: 0.1857 - accuracy: 0.9951 - val_loss: 0.8890 - val_accuracy: 0.7805 - lr: 1.0000e-05\n",
            "Epoch 35/50\n",
            "116/116 [==============================] - ETA: 0s - loss: 0.1838 - accuracy: 0.9951\n",
            "Epoch 35: val_loss improved from 0.88896 to 0.86257, saving model to best_model.keras\n",
            "116/116 [==============================] - 31s 271ms/step - loss: 0.1838 - accuracy: 0.9951 - val_loss: 0.8626 - val_accuracy: 0.7902 - lr: 1.0000e-05\n",
            "Epoch 36/50\n",
            "116/116 [==============================] - ETA: 0s - loss: 0.1879 - accuracy: 0.9930\n",
            "Epoch 36: val_loss did not improve from 0.86257\n",
            "116/116 [==============================] - 30s 257ms/step - loss: 0.1879 - accuracy: 0.9930 - val_loss: 1.1730 - val_accuracy: 0.7220 - lr: 1.0000e-05\n",
            "Epoch 37/50\n",
            "116/116 [==============================] - ETA: 0s - loss: 0.1960 - accuracy: 0.9881\n",
            "Epoch 37: val_loss did not improve from 0.86257\n",
            "116/116 [==============================] - 30s 257ms/step - loss: 0.1960 - accuracy: 0.9881 - val_loss: 1.3432 - val_accuracy: 0.6829 - lr: 1.0000e-05\n",
            "Epoch 38/50\n",
            "116/116 [==============================] - ETA: 0s - loss: 0.1787 - accuracy: 0.9973\n",
            "Epoch 38: val_loss did not improve from 0.86257\n",
            "116/116 [==============================] - 30s 261ms/step - loss: 0.1787 - accuracy: 0.9973 - val_loss: 0.8984 - val_accuracy: 0.7707 - lr: 1.0000e-05\n",
            "Epoch 39/50\n",
            "116/116 [==============================] - ETA: 0s - loss: 0.1869 - accuracy: 0.9946\n",
            "Epoch 39: val_loss did not improve from 0.86257\n",
            "116/116 [==============================] - 30s 260ms/step - loss: 0.1869 - accuracy: 0.9946 - val_loss: 0.9925 - val_accuracy: 0.7512 - lr: 1.0000e-05\n",
            "Epoch 40/50\n",
            "116/116 [==============================] - ETA: 0s - loss: 0.1810 - accuracy: 0.9924\n",
            "Epoch 40: val_loss did not improve from 0.86257\n",
            "116/116 [==============================] - 30s 261ms/step - loss: 0.1810 - accuracy: 0.9924 - val_loss: 0.9319 - val_accuracy: 0.7951 - lr: 1.0000e-05\n",
            "Epoch 41/50\n",
            "116/116 [==============================] - ETA: 0s - loss: 0.1780 - accuracy: 0.9941\n",
            "Epoch 41: val_loss did not improve from 0.86257\n",
            "116/116 [==============================] - 30s 261ms/step - loss: 0.1780 - accuracy: 0.9941 - val_loss: 1.4108 - val_accuracy: 0.6537 - lr: 1.0000e-05\n",
            "Epoch 42/50\n",
            "116/116 [==============================] - ETA: 0s - loss: 0.1779 - accuracy: 0.9941\n",
            "Epoch 42: val_loss did not improve from 0.86257\n",
            "116/116 [==============================] - 30s 257ms/step - loss: 0.1779 - accuracy: 0.9941 - val_loss: 1.1045 - val_accuracy: 0.7268 - lr: 1.0000e-05\n",
            "Epoch 43/50\n",
            "116/116 [==============================] - ETA: 0s - loss: 0.1735 - accuracy: 0.9957\n",
            "Epoch 43: val_loss did not improve from 0.86257\n",
            "116/116 [==============================] - 30s 257ms/step - loss: 0.1735 - accuracy: 0.9957 - val_loss: 1.1542 - val_accuracy: 0.7220 - lr: 1.0000e-05\n",
            "Epoch 44/50\n",
            "116/116 [==============================] - ETA: 0s - loss: 0.1740 - accuracy: 0.9957\n",
            "Epoch 44: val_loss did not improve from 0.86257\n",
            "116/116 [==============================] - 30s 261ms/step - loss: 0.1740 - accuracy: 0.9957 - val_loss: 1.0561 - val_accuracy: 0.7512 - lr: 1.0000e-05\n",
            "Epoch 45/50\n",
            "116/116 [==============================] - ETA: 0s - loss: 0.1800 - accuracy: 0.9914\n",
            "Epoch 45: val_loss did not improve from 0.86257\n",
            "116/116 [==============================] - 30s 255ms/step - loss: 0.1800 - accuracy: 0.9914 - val_loss: 0.9797 - val_accuracy: 0.7415 - lr: 1.0000e-05\n",
            "Epoch 46/50\n",
            "116/116 [==============================] - ETA: 0s - loss: 0.1799 - accuracy: 0.9914\n",
            "Epoch 46: val_loss did not improve from 0.86257\n",
            "116/116 [==============================] - 30s 260ms/step - loss: 0.1799 - accuracy: 0.9914 - val_loss: 0.9472 - val_accuracy: 0.7756 - lr: 1.0000e-05\n",
            "Epoch 47/50\n",
            "116/116 [==============================] - ETA: 0s - loss: 0.1727 - accuracy: 0.9957\n",
            "Epoch 47: val_loss did not improve from 0.86257\n",
            "116/116 [==============================] - 30s 255ms/step - loss: 0.1727 - accuracy: 0.9957 - val_loss: 1.5271 - val_accuracy: 0.6488 - lr: 1.0000e-05\n",
            "Epoch 48/50\n",
            "116/116 [==============================] - ETA: 0s - loss: 0.1649 - accuracy: 0.9973\n",
            "Epoch 48: val_loss did not improve from 0.86257\n",
            "116/116 [==============================] - 30s 256ms/step - loss: 0.1649 - accuracy: 0.9973 - val_loss: 1.5383 - val_accuracy: 0.6244 - lr: 1.0000e-05\n",
            "Epoch 49/50\n",
            "116/116 [==============================] - ETA: 0s - loss: 0.1566 - accuracy: 0.9984\n",
            "Epoch 49: val_loss improved from 0.86257 to 0.85173, saving model to best_model.keras\n",
            "116/116 [==============================] - 33s 281ms/step - loss: 0.1566 - accuracy: 0.9984 - val_loss: 0.8517 - val_accuracy: 0.7951 - lr: 1.0000e-05\n",
            "Epoch 50/50\n",
            "116/116 [==============================] - ETA: 0s - loss: 0.1685 - accuracy: 0.9941\n",
            "Epoch 50: val_loss did not improve from 0.85173\n",
            "116/116 [==============================] - 30s 260ms/step - loss: 0.1685 - accuracy: 0.9941 - val_loss: 1.1486 - val_accuracy: 0.7220 - lr: 1.0000e-05\n"
          ]
        }
      ]
    },
    {
      "cell_type": "code",
      "source": [
        "history2\n"
      ],
      "metadata": {
        "colab": {
          "base_uri": "https://localhost:8080/",
          "height": 141
        },
        "id": "ESIlRKTMY-U4",
        "outputId": "a6723f6c-c6dd-4bc3-96ce-8138aeffe53f"
      },
      "execution_count": 21,
      "outputs": [
        {
          "output_type": "error",
          "ename": "NameError",
          "evalue": "name 'history2' is not defined",
          "traceback": [
            "\u001b[0;31m---------------------------------------------------------------------------\u001b[0m",
            "\u001b[0;31mNameError\u001b[0m                                 Traceback (most recent call last)",
            "\u001b[0;32m<ipython-input-21-8bc146162fbd>\u001b[0m in \u001b[0;36m<cell line: 1>\u001b[0;34m()\u001b[0m\n\u001b[0;32m----> 1\u001b[0;31m \u001b[0mhistory2\u001b[0m\u001b[0;34m\u001b[0m\u001b[0;34m\u001b[0m\u001b[0m\n\u001b[0m",
            "\u001b[0;31mNameError\u001b[0m: name 'history2' is not defined"
          ]
        }
      ]
    },
    {
      "cell_type": "code",
      "source": [],
      "metadata": {
        "id": "h_RNvMPA87fX"
      },
      "execution_count": null,
      "outputs": []
    },
    {
      "cell_type": "code",
      "source": [
        "import numpy as np\n",
        "from sklearn.metrics import confusion_matrix, classification_report, ConfusionMatrixDisplay\n",
        "import matplotlib.pyplot as plt\n",
        "\n",
        "# Load the test data\n",
        "# Assuming test_images and test_labels are prepared similarly to train_images and val_images\n",
        "test_dir = '/content/drive/MyDrive/Dataset/Skin_Lesion_Datasets/All/restricted3/val_set'  # Adjust the path as needed\n",
        "\n",
        "# Load test images and labels\n",
        "test_images, test_labels, test_class_indices = load_images_and_labels(test_dir)\n",
        "test_labels_int = np.argmax(test_labels, axis=1)\n",
        "\n",
        "# Make predictions on the test set\n",
        "predictions = model_with_attention.predict(test_images)\n",
        "predicted_labels = np.argmax(predictions, axis=1)\n",
        "\n",
        "# Plot the confusion matrix\n",
        "conf_matrix = confusion_matrix(test_labels_int, predicted_labels)\n",
        "disp = ConfusionMatrixDisplay(confusion_matrix=conf_matrix, display_labels=list(test_class_indices.keys()))\n",
        "disp.plot(cmap=plt.cm.Blues)\n",
        "plt.title('Confusion Matrix')\n",
        "plt.show()\n",
        "\n",
        "# Print the classification report\n",
        "class_report = classification_report(test_labels_int, predicted_labels, target_names=list(test_class_indices.keys()))\n",
        "print(\"Classification Report:\")\n",
        "print(class_report)\n",
        "\n",
        "# You can also save the classification report to a file if needed\n",
        "with open('classification_report.txt', 'w') as f:\n",
        "    f.write(class_report)\n"
      ],
      "metadata": {
        "colab": {
          "base_uri": "https://localhost:8080/",
          "height": 767
        },
        "id": "otpvymGuF2ey",
        "outputId": "f816625f-1c7c-463d-c0e1-1fafe7be74cd"
      },
      "execution_count": 23,
      "outputs": [
        {
          "output_type": "stream",
          "name": "stdout",
          "text": [
            "7/7 [==============================] - 6s 87ms/step\n"
          ]
        },
        {
          "output_type": "display_data",
          "data": {
            "text/plain": [
              "<Figure size 640x480 with 2 Axes>"
            ],
            "image/png": "[encoded data removed]"
          },
          "metadata": {}
        },
        {
          "output_type": "stream",
          "name": "stdout",
          "text": [
            "Classification Report:\n",
            "              precision    recall  f1-score   support\n",
            "\n",
            "       AKIEC       0.76      0.63      0.69        30\n",
            "         BCC       0.83      0.67      0.74        30\n",
            "         BKL       0.64      0.70      0.67        30\n",
            "          DF       0.47      0.64      0.54        11\n",
            "         MEL       0.67      0.53      0.59        30\n",
            "          NV       0.58      0.70      0.64        30\n",
            "      Normal       1.00      1.00      1.00        30\n",
            "        VASC       0.78      1.00      0.88        14\n",
            "\n",
            "    accuracy                           0.72       205\n",
            "   macro avg       0.72      0.73      0.72       205\n",
            "weighted avg       0.73      0.72      0.72       205\n",
            "\n"
          ]
        }
      ]
    },
    {
      "cell_type": "code",
      "source": [
        "import numpy as np\n",
        "from sklearn.metrics import confusion_matrix, classification_report, ConfusionMatrixDisplay\n",
        "import matplotlib.pyplot as plt\n",
        "\n",
        "# Define the mapping of classes to cancerous and non-cancerous\n",
        "cancerous_classes = ['AKIEC', 'BCC', 'BKL', 'DF', 'MEL', 'NV']\n",
        "non_cancerous_classes = ['Normal', 'VASC']\n",
        "class_mapping = {class_name: 'Cancerous' for class_name in cancerous_classes}\n",
        "class_mapping.update({class_name: 'Non-Cancerous' for class_name in non_cancerous_classes})\n",
        "\n",
        "# Function to map original labels to cancerous and non-cancerous\n",
        "def map_labels(labels, mapping):\n",
        "    return [mapping[label] for label in labels]\n",
        "\n",
        "# Load the test data\n",
        "test_dir = '/content/drive/MyDrive/Dataset/Skin_Lesion_Datasets/All/restricted3/val_set'  # Adjust the path as needed\n",
        "\n",
        "# Load test images and labels\n",
        "test_images, test_labels, test_class_indices = load_images_and_labels(test_dir)\n",
        "test_labels_int = np.argmax(test_labels, axis=1)\n",
        "test_labels_str = [list(test_class_indices.keys())[i] for i in test_labels_int]\n",
        "\n",
        "# Make predictions on the test set\n",
        "predictions = model_with_attention.predict(test_images)\n",
        "predicted_labels_int = np.argmax(predictions, axis=1)\n",
        "predicted_labels_str = [list(test_class_indices.keys())[i] for i in predicted_labels_int]\n",
        "\n",
        "# Map the original labels to cancerous and non-cancerous\n",
        "test_labels_mapped = map_labels(test_labels_str, class_mapping)\n",
        "predicted_labels_mapped = map_labels(predicted_labels_str, class_mapping)\n",
        "\n",
        "# Plot the confusion matrix\n",
        "conf_matrix = confusion_matrix(test_labels_mapped, predicted_labels_mapped, labels=['Cancerous', 'Non-Cancerous'])\n",
        "disp = ConfusionMatrixDisplay(confusion_matrix=conf_matrix, display_labels=['Cancerous', 'Non-Cancerous'])\n",
        "disp.plot(cmap=plt.cm.Blues)\n",
        "plt.title('Confusion Matrix: Cancerous vs Non-Cancerous')\n",
        "plt.show()\n",
        "\n",
        "# Print the classification report\n",
        "class_report = classification_report(test_labels_mapped, predicted_labels_mapped, target_names=['Cancerous', 'Non-Cancerous'])\n",
        "print(\"Classification Report:\")\n",
        "print(class_report)\n",
        "\n",
        "# Save the classification report to a file if needed\n",
        "with open('classification_report_cancerous_vs_noncancerous.txt', 'w') as f:\n",
        "    f.write(class_report)\n"
      ],
      "metadata": {
        "colab": {
          "base_uri": "https://localhost:8080/",
          "height": 663
        },
        "id": "cUQxb_xeF2ij",
        "outputId": "7336f483-bb13-4bdd-8e0a-380d3d6f61e1"
      },
      "execution_count": 24,
      "outputs": [
        {
          "output_type": "stream",
          "name": "stdout",
          "text": [
            "7/7 [==============================] - 1s 102ms/step\n"
          ]
        },
        {
          "output_type": "display_data",
          "data": {
            "text/plain": [
              "<Figure size 640x480 with 2 Axes>"
            ],
            "image/png": "[encoded data removed]"
          },
          "metadata": {}
        },
        {
          "output_type": "stream",
          "name": "stdout",
          "text": [
            "Classification Report:\n",
            "               precision    recall  f1-score   support\n",
            "\n",
            "    Cancerous       1.00      0.98      0.99       161\n",
            "Non-Cancerous       0.92      1.00      0.96        44\n",
            "\n",
            "     accuracy                           0.98       205\n",
            "    macro avg       0.96      0.99      0.97       205\n",
            " weighted avg       0.98      0.98      0.98       205\n",
            "\n"
          ]
        }
      ]
    },
    {
      "cell_type": "code",
      "source": [],
      "metadata": {
        "id": "F4-90ncpF2mY"
      },
      "execution_count": null,
      "outputs": []
    },
    {
      "cell_type": "code",
      "source": [
        "import os\n",
        "import shutil\n",
        "import pandas as pd\n",
        "from tqdm import tqdm\n",
        "import numpy as np\n",
        "from tensorflow.keras.preprocessing.image import load_img, img_to_array\n",
        "from tensorflow.keras.utils import to_categorical\n",
        "from sklearn.utils.class_weight import compute_class_weight\n",
        "import tensorflow as tf\n",
        "from tensorflow.keras.layers import Input, Conv2D, Multiply, GlobalAveragePooling2D, Dense, BatchNormalization, Dropout\n",
        "from tensorflow.keras.models import Model\n",
        "from tensorflow.keras.regularizers import l2\n",
        "from tensorflow.keras.applications import EfficientNetB1\n",
        "from tensorflow.keras.optimizers import Adam\n",
        "from tensorflow.keras import backend as K\n",
        "from sklearn.metrics import confusion_matrix, classification_report, ConfusionMatrixDisplay\n",
        "import matplotlib.pyplot as plt\n",
        "\n",
        "# Define the mapping of classes to cancerous and non-cancerous\n",
        "cancerous_classes = ['AKIEC', 'BCC', 'BKL', 'DF', 'MEL', 'NV']\n",
        "non_cancerous_classes = ['Normal', 'VASC']\n",
        "class_mapping = {class_name: 'Cancerous' for class_name in cancerous_classes}\n",
        "class_mapping.update({class_name: 'Non-Cancerous' for class_name in non_cancerous_classes})\n",
        "\n",
        "# Function to map original labels to cancerous and non-cancerous\n",
        "def map_labels(labels, mapping):\n",
        "    return [mapping[label] for label in labels]\n"
      ],
      "metadata": {
        "id": "U_hP2A3QNu6A"
      },
      "execution_count": 2,
      "outputs": []
    },
    {
      "cell_type": "code",
      "source": [
        "\n",
        "# Load images and labels with grouped labels\n",
        "def load_images_and_labels_grouped(base_dir, img_size=(256, 256), augment=False):\n",
        "    images = []\n",
        "    labels = []\n",
        "    class_names = sorted(os.listdir(base_dir))  # Ensure that the order is consistent\n",
        "    class_indices = {name: index for index, name in enumerate(class_names)}\n",
        "\n",
        "    for folder in class_names:\n",
        "        folder_path = os.path.join(base_dir, folder)\n",
        "        for img_file in os.listdir(folder_path):\n",
        "            img_path = os.path.join(folder_path, img_file)\n",
        "            img = load_img(img_path, color_mode='rgb', target_size=img_size)  # Corrected color_mode to 'rgb'\n",
        "            img_array = img_to_array(img)\n",
        "\n",
        "            if augment:\n",
        "                img_array = apply_random_transformations(img_array)\n",
        "\n",
        "            images.append(img_array)\n",
        "            labels.append(class_mapping[folder])\n",
        "\n",
        "    images = np.array(images, dtype='float32') / 255.0  # Normalize the images\n",
        "    labels = to_categorical([1 if label == 'Cancerous' else 0 for label in labels], num_classes=2)  # Convert labels to one-hot encoding\n",
        "\n",
        "    return images, labels\n",
        "\n",
        "def apply_random_transformations(image):\n",
        "    image = Image.fromarray(np.uint8(image))  # Convert to PIL image for transformations\n",
        "    # Random flip\n",
        "    if random.choice([True, False]):\n",
        "        image = image.transpose(Image.FLIP_LEFT_RIGHT)\n",
        "    if random.choice([True, False]):\n",
        "        image = image.transpose(Image.FLIP_TOP_BOTTOM)\n",
        "\n",
        "    # Random rotation\n",
        "    rotation = random.choice([0, 90, 180, 270])\n",
        "    image = image.rotate(rotation)\n",
        "\n",
        "    return np.array(image)\n",
        "\n",
        "# Specify the paths to your training and validation sets\n",
        "train_dir = '/content/drive/MyDrive/Dataset/Skin_Lesion_Datasets/All/restricted3/train_set'\n",
        "val_dir = '/content/drive/MyDrive/Dataset/Skin_Lesion_Datasets/All/restricted3/val_set'\n",
        "\n",
        "# Load training and validation data with augmentation for training data\n",
        "train_images, train_labels = load_images_and_labels_grouped(train_dir, augment=True)\n",
        "val_images, val_labels = load_images_and_labels_grouped(val_dir)\n",
        "\n",
        "print(\"Training and validation data loaded successfully.\")\n"
      ],
      "metadata": {
        "colab": {
          "base_uri": "https://localhost:8080/"
        },
        "id": "0YeI3F4gNu9S",
        "outputId": "e3fba669-635a-48d9-efc1-8f2b680ec4a5"
      },
      "execution_count": 5,
      "outputs": [
        {
          "output_type": "stream",
          "name": "stdout",
          "text": [
            "Training and validation data loaded successfully.\n"
          ]
        }
      ]
    },
    {
      "cell_type": "code",
      "source": [
        "# Calculate class weights\n",
        "train_labels_int = np.argmax(train_labels, axis=1)\n",
        "class_weights = compute_class_weight(\n",
        "    class_weight='balanced',\n",
        "    classes=np.unique(train_labels_int),\n",
        "    y=train_labels_int\n",
        ")\n",
        "\n",
        "# Convert class weights to a dictionary to pass to model.fit\n",
        "class_weight_dict = {i : class_weights[i] for i in range(len(class_weights))}\n",
        "print(\"Class weights:\", class_weight_dict)\n"
      ],
      "metadata": {
        "colab": {
          "base_uri": "https://localhost:8080/"
        },
        "id": "8JPw-S9KNvBu",
        "outputId": "7d0770e6-e030-469e-cf93-3759bbfbd312"
      },
      "execution_count": 6,
      "outputs": [
        {
          "output_type": "stream",
          "name": "stdout",
          "text": [
            "Class weights: {0: 2.3266331658291457, 1: 0.6368638239339752}\n"
          ]
        }
      ]
    },
    {
      "cell_type": "code",
      "source": [
        "# Custom F1-score metric\n",
        "def f1_score(y_true, y_pred):\n",
        "    precision = tf.keras.metrics.Precision()(y_true, y_pred)\n",
        "    recall = tf.keras.metrics.Recall()(y_true, y_pred)\n",
        "    return 2 * ((precision * recall) / (precision + recall + K.epsilon()))\n",
        "\n",
        "def build_attention_model(input_shape=(256, 256, 1), num_classes=2):\n",
        "    base_model = EfficientNetB1(include_top=False, weights=\"imagenet\", input_shape=(input_shape[0], input_shape[1], 3))\n",
        "\n",
        "    # Regularizer configuration\n",
        "    reg = l2(0.01)\n",
        "\n",
        "    # Feature extraction from the base model\n",
        "    x = base_model.output\n",
        "\n",
        "    # Attention Layer\n",
        "    attention_probs = Conv2D(1, (1, 1), activation='sigmoid', padding='same')(x)  # Single channel attention map\n",
        "    x = Multiply()([x, attention_probs])  # Modulate features with the attention map\n",
        "\n",
        "    # Pooling features\n",
        "    x = GlobalAveragePooling2D()(x)\n",
        "\n",
        "    # Adding regularized dense layers\n",
        "    x = Dense(256, activation='relu', kernel_regularizer=reg)(x)\n",
        "    x = BatchNormalization()(x)\n",
        "    x = Dropout(0.5)(x)\n",
        "\n",
        "    # Additional dense layer for more regularization\n",
        "    x = Dense(128, activation='relu', kernel_regularizer=reg)(x)\n",
        "    x = BatchNormalization()(x)\n",
        "    x = Dropout(0.5)(x)\n",
        "\n",
        "    # Output layer\n",
        "    predictions = Dense(num_classes, activation='softmax', kernel_regularizer=reg)(x)\n",
        "\n",
        "    # Constructing the final model\n",
        "    model = Model(inputs=base_model.input, outputs=predictions)\n",
        "    model.compile(optimizer=Adam(learning_rate=0.001), loss='categorical_crossentropy', metrics=['accuracy'])\n",
        "\n",
        "    return model\n",
        "\n",
        "# Create the model with the attention mechanism and enhanced regularization\n",
        "model_with_attention = build_attention_model()\n"
      ],
      "metadata": {
        "id": "zfftI3ITNvGY"
      },
      "execution_count": 10,
      "outputs": []
    },
    {
      "cell_type": "code",
      "source": [
        "# Define the EarlyStopping callback\n",
        "early_stopping = EarlyStopping(\n",
        "    monitor='val_loss',\n",
        "    patience=20,  # Adjust based on the sensitivity of your model's training dynamics\n",
        "    verbose=1,\n",
        "    restore_best_weights=True\n",
        ")\n",
        "\n",
        "# Define the ModelCheckpoint callback\n",
        "model_checkpoint = ModelCheckpoint(\n",
        "    'best_model.h5',\n",
        "    monitor='val_loss',\n",
        "    save_best_only=True,\n",
        "    verbose=1\n",
        ")\n",
        "\n",
        "# ReduceLROnPlateau to reduce learning rate when a metric has stopped improving\n",
        "reduce_lr = ReduceLROnPlateau(\n",
        "    monitor='val_loss',\n",
        "    factor=0.2,  # Reduce the learning rate by 20% if no improvement seen\n",
        "    patience=5,\n",
        "    min_lr=0.00001,  # Minimum learning rate to drop to\n",
        "    verbose=1\n",
        ")\n",
        "\n",
        "# Train the model with these callbacks\n",
        "history4 = model_with_attention.fit(\n",
        "    train_images, train_labels,\n",
        "    epochs=50,\n",
        "    batch_size=16,\n",
        "    validation_data=(val_images, val_labels),\n",
        "    class_weight=class_weight_dict,  # Include class weights if class imbalance is an issue\n",
        "    callbacks=[early_stopping, model_checkpoint, reduce_lr]\n",
        ")"
      ],
      "metadata": {
        "colab": {
          "base_uri": "https://localhost:8080/"
        },
        "id": "rytaty-2QUgY",
        "outputId": "d29a567f-8798-4b8d-dda7-f78f842c4426"
      },
      "execution_count": 11,
      "outputs": [
        {
          "output_type": "stream",
          "name": "stdout",
          "text": [
            "Epoch 1/50\n",
            "116/116 [==============================] - ETA: 0s - loss: 5.9211 - accuracy: 0.7279\n",
            "Epoch 1: val_loss improved from inf to 9.32168, saving model to best_model.h5\n"
          ]
        },
        {
          "output_type": "stream",
          "name": "stderr",
          "text": [
            "/usr/local/lib/python3.10/dist-packages/keras/src/engine/training.py:3103: UserWarning: You are saving your model as an HDF5 file via `model.save()`. This file format is considered legacy. We recommend using instead the native Keras format, e.g. `model.save('my_model.keras')`.\n",
            "  saving_api.save_model(\n"
          ]
        },
        {
          "output_type": "stream",
          "name": "stdout",
          "text": [
            "\b\b\b\b\b\b\b\b\b\b\b\b\b\b\b\b\b\b\b\b\b\b\b\b\b\b\b\b\b\b\b\b\b\b\b\b\b\b\b\b\b\b\b\b\b\b\b\b\b\b\b\b\b\b\b\b\b\b\b\b\b\b\b\b\b\b\b\b\b\b\b\b\b\b\b\b\b\b\b\b\b\b\b\b\r116/116 [==============================] - 98s 324ms/step - loss: 5.9211 - accuracy: 0.7279 - val_loss: 9.3217 - val_accuracy: 0.2146 - lr: 0.0010\n",
            "Epoch 2/50\n",
            "116/116 [==============================] - ETA: 0s - loss: 4.0395 - accuracy: 0.8877\n",
            "Epoch 2: val_loss did not improve from 9.32168\n",
            "116/116 [==============================] - 30s 260ms/step - loss: 4.0395 - accuracy: 0.8877 - val_loss: 12.2730 - val_accuracy: 0.2146 - lr: 0.0010\n",
            "Epoch 3/50\n",
            "116/116 [==============================] - ETA: 0s - loss: 2.7608 - accuracy: 0.9271\n",
            "Epoch 3: val_loss did not improve from 9.32168\n",
            "116/116 [==============================] - 29s 253ms/step - loss: 2.7608 - accuracy: 0.9271 - val_loss: 41.8772 - val_accuracy: 0.7659 - lr: 0.0010\n",
            "Epoch 4/50\n",
            "116/116 [==============================] - ETA: 0s - loss: 1.8063 - accuracy: 0.9595\n",
            "Epoch 4: val_loss did not improve from 9.32168\n",
            "116/116 [==============================] - 30s 257ms/step - loss: 1.8063 - accuracy: 0.9595 - val_loss: 18.8443 - val_accuracy: 0.2146 - lr: 0.0010\n",
            "Epoch 5/50\n",
            "116/116 [==============================] - ETA: 0s - loss: 1.2304 - accuracy: 0.9644\n",
            "Epoch 5: val_loss did not improve from 9.32168\n",
            "116/116 [==============================] - 30s 259ms/step - loss: 1.2304 - accuracy: 0.9644 - val_loss: 32.1353 - val_accuracy: 0.3220 - lr: 0.0010\n",
            "Epoch 6/50\n",
            "116/116 [==============================] - ETA: 0s - loss: 0.9618 - accuracy: 0.9406\n",
            "Epoch 6: val_loss did not improve from 9.32168\n",
            "\n",
            "Epoch 6: ReduceLROnPlateau reducing learning rate to 0.00020000000949949026.\n",
            "116/116 [==============================] - 31s 265ms/step - loss: 0.9618 - accuracy: 0.9406 - val_loss: 12.0457 - val_accuracy: 0.2146 - lr: 0.0010\n",
            "Epoch 7/50\n",
            "116/116 [==============================] - ETA: 0s - loss: 0.7085 - accuracy: 0.9692\n",
            "Epoch 7: val_loss did not improve from 9.32168\n",
            "116/116 [==============================] - 30s 257ms/step - loss: 0.7085 - accuracy: 0.9692 - val_loss: 10.4705 - val_accuracy: 0.2146 - lr: 2.0000e-04\n",
            "Epoch 8/50\n",
            "116/116 [==============================] - ETA: 0s - loss: 0.6336 - accuracy: 0.9833\n",
            "Epoch 8: val_loss improved from 9.32168 to 3.20173, saving model to best_model.h5\n",
            "116/116 [==============================] - 31s 269ms/step - loss: 0.6336 - accuracy: 0.9833 - val_loss: 3.2017 - val_accuracy: 0.2098 - lr: 2.0000e-04\n",
            "Epoch 9/50\n",
            "116/116 [==============================] - ETA: 0s - loss: 0.5837 - accuracy: 0.9849\n",
            "Epoch 9: val_loss did not improve from 3.20173\n",
            "116/116 [==============================] - 29s 254ms/step - loss: 0.5837 - accuracy: 0.9849 - val_loss: 6.8533 - val_accuracy: 0.2146 - lr: 2.0000e-04\n",
            "Epoch 10/50\n",
            "116/116 [==============================] - ETA: 0s - loss: 0.5110 - accuracy: 0.9876\n",
            "Epoch 10: val_loss did not improve from 3.20173\n",
            "116/116 [==============================] - 30s 259ms/step - loss: 0.5110 - accuracy: 0.9876 - val_loss: 14.9775 - val_accuracy: 0.2976 - lr: 2.0000e-04\n",
            "Epoch 11/50\n",
            "116/116 [==============================] - ETA: 0s - loss: 0.4759 - accuracy: 0.9843\n",
            "Epoch 11: val_loss improved from 3.20173 to 1.65401, saving model to best_model.h5\n",
            "116/116 [==============================] - 31s 264ms/step - loss: 0.4759 - accuracy: 0.9843 - val_loss: 1.6540 - val_accuracy: 0.6293 - lr: 2.0000e-04\n",
            "Epoch 12/50\n",
            "116/116 [==============================] - ETA: 0s - loss: 0.4075 - accuracy: 0.9892\n",
            "Epoch 12: val_loss improved from 1.65401 to 1.22749, saving model to best_model.h5\n",
            "116/116 [==============================] - 31s 269ms/step - loss: 0.4075 - accuracy: 0.9892 - val_loss: 1.2275 - val_accuracy: 0.8146 - lr: 2.0000e-04\n",
            "Epoch 13/50\n",
            "116/116 [==============================] - ETA: 0s - loss: 0.3504 - accuracy: 0.9957\n",
            "Epoch 13: val_loss improved from 1.22749 to 0.79710, saving model to best_model.h5\n",
            "116/116 [==============================] - 32s 272ms/step - loss: 0.3504 - accuracy: 0.9957 - val_loss: 0.7971 - val_accuracy: 0.8927 - lr: 2.0000e-04\n",
            "Epoch 14/50\n",
            "116/116 [==============================] - ETA: 0s - loss: 0.3213 - accuracy: 0.9919\n",
            "Epoch 14: val_loss did not improve from 0.79710\n",
            "116/116 [==============================] - 30s 261ms/step - loss: 0.3213 - accuracy: 0.9919 - val_loss: 5.0331 - val_accuracy: 0.3805 - lr: 2.0000e-04\n",
            "Epoch 15/50\n",
            "116/116 [==============================] - ETA: 0s - loss: 0.2965 - accuracy: 0.9908\n",
            "Epoch 15: val_loss did not improve from 0.79710\n",
            "116/116 [==============================] - 30s 259ms/step - loss: 0.2965 - accuracy: 0.9908 - val_loss: 13.5574 - val_accuracy: 0.2146 - lr: 2.0000e-04\n",
            "Epoch 16/50\n",
            "116/116 [==============================] - ETA: 0s - loss: 0.2698 - accuracy: 0.9957\n",
            "Epoch 16: val_loss did not improve from 0.79710\n",
            "116/116 [==============================] - 29s 254ms/step - loss: 0.2698 - accuracy: 0.9957 - val_loss: 12.9667 - val_accuracy: 0.2146 - lr: 2.0000e-04\n",
            "Epoch 17/50\n",
            "116/116 [==============================] - ETA: 0s - loss: 0.2313 - accuracy: 0.9973\n",
            "Epoch 17: val_loss did not improve from 0.79710\n",
            "116/116 [==============================] - 30s 255ms/step - loss: 0.2313 - accuracy: 0.9973 - val_loss: 12.8064 - val_accuracy: 0.2195 - lr: 2.0000e-04\n",
            "Epoch 18/50\n",
            "116/116 [==============================] - ETA: 0s - loss: 0.2565 - accuracy: 0.9860\n",
            "Epoch 18: val_loss did not improve from 0.79710\n",
            "\n",
            "Epoch 18: ReduceLROnPlateau reducing learning rate to 4.0000001899898055e-05.\n",
            "116/116 [==============================] - 30s 256ms/step - loss: 0.2565 - accuracy: 0.9860 - val_loss: 2.6537 - val_accuracy: 0.4049 - lr: 2.0000e-04\n",
            "Epoch 19/50\n",
            "116/116 [==============================] - ETA: 0s - loss: 0.2163 - accuracy: 0.9951\n",
            "Epoch 19: val_loss improved from 0.79710 to 0.35875, saving model to best_model.h5\n",
            "116/116 [==============================] - 31s 271ms/step - loss: 0.2163 - accuracy: 0.9951 - val_loss: 0.3588 - val_accuracy: 0.9415 - lr: 4.0000e-05\n",
            "Epoch 20/50\n",
            "116/116 [==============================] - ETA: 0s - loss: 0.2019 - accuracy: 0.9968\n",
            "Epoch 20: val_loss did not improve from 0.35875\n",
            "116/116 [==============================] - 30s 255ms/step - loss: 0.2019 - accuracy: 0.9968 - val_loss: 1.5065 - val_accuracy: 0.6976 - lr: 4.0000e-05\n",
            "Epoch 21/50\n",
            "116/116 [==============================] - ETA: 0s - loss: 0.2055 - accuracy: 0.9957\n",
            "Epoch 21: val_loss did not improve from 0.35875\n",
            "116/116 [==============================] - 30s 260ms/step - loss: 0.2055 - accuracy: 0.9957 - val_loss: 0.4935 - val_accuracy: 0.9171 - lr: 4.0000e-05\n",
            "Epoch 22/50\n",
            "116/116 [==============================] - ETA: 0s - loss: 0.1876 - accuracy: 0.9968\n",
            "Epoch 22: val_loss did not improve from 0.35875\n",
            "116/116 [==============================] - 30s 260ms/step - loss: 0.1876 - accuracy: 0.9968 - val_loss: 0.7784 - val_accuracy: 0.8780 - lr: 4.0000e-05\n",
            "Epoch 23/50\n",
            "116/116 [==============================] - ETA: 0s - loss: 0.1840 - accuracy: 0.9973\n",
            "Epoch 23: val_loss improved from 0.35875 to 0.26374, saving model to best_model.h5\n",
            "116/116 [==============================] - 31s 272ms/step - loss: 0.1840 - accuracy: 0.9973 - val_loss: 0.2637 - val_accuracy: 0.9659 - lr: 4.0000e-05\n",
            "Epoch 24/50\n",
            "116/116 [==============================] - ETA: 0s - loss: 0.1747 - accuracy: 0.9968\n",
            "Epoch 24: val_loss did not improve from 0.26374\n",
            "116/116 [==============================] - 30s 255ms/step - loss: 0.1747 - accuracy: 0.9968 - val_loss: 1.0586 - val_accuracy: 0.8293 - lr: 4.0000e-05\n",
            "Epoch 25/50\n",
            "116/116 [==============================] - ETA: 0s - loss: 0.1778 - accuracy: 0.9962\n",
            "Epoch 25: val_loss did not improve from 0.26374\n",
            "116/116 [==============================] - 30s 261ms/step - loss: 0.1778 - accuracy: 0.9962 - val_loss: 2.4245 - val_accuracy: 0.6537 - lr: 4.0000e-05\n",
            "Epoch 26/50\n",
            "116/116 [==============================] - ETA: 0s - loss: 0.1719 - accuracy: 0.9962\n",
            "Epoch 26: val_loss did not improve from 0.26374\n",
            "116/116 [==============================] - 30s 256ms/step - loss: 0.1719 - accuracy: 0.9962 - val_loss: 0.6584 - val_accuracy: 0.8878 - lr: 4.0000e-05\n",
            "Epoch 27/50\n",
            "116/116 [==============================] - ETA: 0s - loss: 0.1600 - accuracy: 0.9973\n",
            "Epoch 27: val_loss improved from 0.26374 to 0.16994, saving model to best_model.h5\n",
            "116/116 [==============================] - 31s 267ms/step - loss: 0.1600 - accuracy: 0.9973 - val_loss: 0.1699 - val_accuracy: 0.9951 - lr: 4.0000e-05\n",
            "Epoch 28/50\n",
            "116/116 [==============================] - ETA: 0s - loss: 0.1510 - accuracy: 0.9984\n",
            "Epoch 28: val_loss improved from 0.16994 to 0.16530, saving model to best_model.h5\n",
            "116/116 [==============================] - 31s 271ms/step - loss: 0.1510 - accuracy: 0.9984 - val_loss: 0.1653 - val_accuracy: 0.9951 - lr: 4.0000e-05\n",
            "Epoch 29/50\n",
            "116/116 [==============================] - ETA: 0s - loss: 0.1467 - accuracy: 0.9984\n",
            "Epoch 29: val_loss did not improve from 0.16530\n",
            "116/116 [==============================] - 30s 255ms/step - loss: 0.1467 - accuracy: 0.9984 - val_loss: 0.1654 - val_accuracy: 0.9902 - lr: 4.0000e-05\n",
            "Epoch 30/50\n",
            "116/116 [==============================] - ETA: 0s - loss: 0.1420 - accuracy: 0.9978\n",
            "Epoch 30: val_loss did not improve from 0.16530\n",
            "116/116 [==============================] - 30s 256ms/step - loss: 0.1420 - accuracy: 0.9978 - val_loss: 0.1946 - val_accuracy: 0.9854 - lr: 4.0000e-05\n",
            "Epoch 31/50\n",
            "116/116 [==============================] - ETA: 0s - loss: 0.1398 - accuracy: 0.9957\n",
            "Epoch 31: val_loss did not improve from 0.16530\n",
            "116/116 [==============================] - 31s 264ms/step - loss: 0.1398 - accuracy: 0.9957 - val_loss: 0.2698 - val_accuracy: 0.9659 - lr: 4.0000e-05\n",
            "Epoch 32/50\n",
            "116/116 [==============================] - ETA: 0s - loss: 0.1344 - accuracy: 0.9968\n",
            "Epoch 32: val_loss did not improve from 0.16530\n",
            "116/116 [==============================] - 30s 257ms/step - loss: 0.1344 - accuracy: 0.9968 - val_loss: 0.2529 - val_accuracy: 0.9707 - lr: 4.0000e-05\n",
            "Epoch 33/50\n",
            "116/116 [==============================] - ETA: 0s - loss: 0.1269 - accuracy: 0.9995\n",
            "Epoch 33: val_loss improved from 0.16530 to 0.14468, saving model to best_model.h5\n",
            "116/116 [==============================] - 31s 271ms/step - loss: 0.1269 - accuracy: 0.9995 - val_loss: 0.1447 - val_accuracy: 0.9902 - lr: 4.0000e-05\n",
            "Epoch 34/50\n",
            "116/116 [==============================] - ETA: 0s - loss: 0.1240 - accuracy: 0.9973\n",
            "Epoch 34: val_loss did not improve from 0.14468\n",
            "116/116 [==============================] - 30s 260ms/step - loss: 0.1240 - accuracy: 0.9973 - val_loss: 0.1539 - val_accuracy: 0.9902 - lr: 4.0000e-05\n",
            "Epoch 35/50\n",
            "116/116 [==============================] - ETA: 0s - loss: 0.1168 - accuracy: 0.9995\n",
            "Epoch 35: val_loss did not improve from 0.14468\n",
            "116/116 [==============================] - 30s 260ms/step - loss: 0.1168 - accuracy: 0.9995 - val_loss: 0.1580 - val_accuracy: 0.9854 - lr: 4.0000e-05\n",
            "Epoch 36/50\n",
            "116/116 [==============================] - ETA: 0s - loss: 0.1155 - accuracy: 0.9962\n",
            "Epoch 36: val_loss improved from 0.14468 to 0.12267, saving model to best_model.h5\n",
            "116/116 [==============================] - 31s 265ms/step - loss: 0.1155 - accuracy: 0.9962 - val_loss: 0.1227 - val_accuracy: 0.9951 - lr: 4.0000e-05\n",
            "Epoch 37/50\n",
            "116/116 [==============================] - ETA: 0s - loss: 0.1136 - accuracy: 0.9951\n",
            "Epoch 37: val_loss did not improve from 0.12267\n",
            "116/116 [==============================] - 29s 254ms/step - loss: 0.1136 - accuracy: 0.9951 - val_loss: 0.1864 - val_accuracy: 0.9756 - lr: 4.0000e-05\n",
            "Epoch 38/50\n",
            "116/116 [==============================] - ETA: 0s - loss: 0.1058 - accuracy: 0.9978\n",
            "Epoch 38: val_loss did not improve from 0.12267\n",
            "116/116 [==============================] - 30s 255ms/step - loss: 0.1058 - accuracy: 0.9978 - val_loss: 0.1989 - val_accuracy: 0.9805 - lr: 4.0000e-05\n",
            "Epoch 39/50\n",
            "116/116 [==============================] - ETA: 0s - loss: 0.0988 - accuracy: 1.0000\n",
            "Epoch 39: val_loss improved from 0.12267 to 0.10519, saving model to best_model.h5\n",
            "116/116 [==============================] - 31s 266ms/step - loss: 0.0988 - accuracy: 1.0000 - val_loss: 0.1052 - val_accuracy: 0.9951 - lr: 4.0000e-05\n",
            "Epoch 40/50\n",
            "116/116 [==============================] - ETA: 0s - loss: 0.0975 - accuracy: 0.9984\n",
            "Epoch 40: val_loss improved from 0.10519 to 0.10323, saving model to best_model.h5\n",
            "116/116 [==============================] - 31s 270ms/step - loss: 0.0975 - accuracy: 0.9984 - val_loss: 0.1032 - val_accuracy: 0.9951 - lr: 4.0000e-05\n",
            "Epoch 41/50\n",
            "116/116 [==============================] - ETA: 0s - loss: 0.0921 - accuracy: 0.9995\n",
            "Epoch 41: val_loss did not improve from 0.10323\n",
            "116/116 [==============================] - 30s 256ms/step - loss: 0.0921 - accuracy: 0.9995 - val_loss: 3.2993 - val_accuracy: 0.6000 - lr: 4.0000e-05\n",
            "Epoch 42/50\n",
            "116/116 [==============================] - ETA: 0s - loss: 0.0896 - accuracy: 0.9984\n",
            "Epoch 42: val_loss did not improve from 0.10323\n",
            "116/116 [==============================] - 30s 256ms/step - loss: 0.0896 - accuracy: 0.9984 - val_loss: 0.3822 - val_accuracy: 0.9366 - lr: 4.0000e-05\n",
            "Epoch 43/50\n",
            "116/116 [==============================] - ETA: 0s - loss: 0.0861 - accuracy: 0.9995\n",
            "Epoch 43: val_loss did not improve from 0.10323\n",
            "116/116 [==============================] - 30s 254ms/step - loss: 0.0861 - accuracy: 0.9995 - val_loss: 0.1077 - val_accuracy: 0.9902 - lr: 4.0000e-05\n",
            "Epoch 44/50\n",
            "116/116 [==============================] - ETA: 0s - loss: 0.0836 - accuracy: 0.9978\n",
            "Epoch 44: val_loss did not improve from 0.10323\n",
            "116/116 [==============================] - 29s 254ms/step - loss: 0.0836 - accuracy: 0.9978 - val_loss: 1.0199 - val_accuracy: 0.8488 - lr: 4.0000e-05\n",
            "Epoch 45/50\n",
            "116/116 [==============================] - ETA: 0s - loss: 0.1006 - accuracy: 0.9946\n",
            "Epoch 45: val_loss did not improve from 0.10323\n",
            "\n",
            "Epoch 45: ReduceLROnPlateau reducing learning rate to 1e-05.\n",
            "116/116 [==============================] - 30s 255ms/step - loss: 0.1006 - accuracy: 0.9946 - val_loss: 7.3020 - val_accuracy: 0.2390 - lr: 4.0000e-05\n",
            "Epoch 46/50\n",
            "116/116 [==============================] - ETA: 0s - loss: 0.0800 - accuracy: 0.9984\n",
            "Epoch 46: val_loss did not improve from 0.10323\n",
            "116/116 [==============================] - 30s 260ms/step - loss: 0.0800 - accuracy: 0.9984 - val_loss: 0.1182 - val_accuracy: 0.9854 - lr: 1.0000e-05\n",
            "Epoch 47/50\n",
            "116/116 [==============================] - ETA: 0s - loss: 0.0802 - accuracy: 0.9984\n",
            "Epoch 47: val_loss did not improve from 0.10323\n",
            "116/116 [==============================] - 30s 255ms/step - loss: 0.0802 - accuracy: 0.9984 - val_loss: 0.1455 - val_accuracy: 0.9902 - lr: 1.0000e-05\n",
            "Epoch 48/50\n",
            "116/116 [==============================] - ETA: 0s - loss: 0.0785 - accuracy: 0.9989\n",
            "Epoch 48: val_loss did not improve from 0.10323\n",
            "116/116 [==============================] - 30s 256ms/step - loss: 0.0785 - accuracy: 0.9989 - val_loss: 0.1381 - val_accuracy: 0.9902 - lr: 1.0000e-05\n",
            "Epoch 49/50\n",
            "116/116 [==============================] - ETA: 0s - loss: 0.0799 - accuracy: 0.9968\n",
            "Epoch 49: val_loss did not improve from 0.10323\n",
            "116/116 [==============================] - 30s 260ms/step - loss: 0.0799 - accuracy: 0.9968 - val_loss: 0.6673 - val_accuracy: 0.8976 - lr: 1.0000e-05\n",
            "Epoch 50/50\n",
            "116/116 [==============================] - ETA: 0s - loss: 0.0738 - accuracy: 1.0000\n",
            "Epoch 50: val_loss did not improve from 0.10323\n",
            "116/116 [==============================] - 30s 259ms/step - loss: 0.0738 - accuracy: 1.0000 - val_loss: 0.1907 - val_accuracy: 0.9805 - lr: 1.0000e-05\n"
          ]
        }
      ]
    },
    {
      "cell_type": "code",
      "source": [
        "# Load the test data\n",
        "test_dir = '/content/drive/MyDrive/Dataset/Skin_Lesion_Datasets/All/restricted3/val_set'  # Adjust the path as needed\n",
        "\n",
        "# Load test images and labels\n",
        "test_images, test_labels = load_images_and_labels_grouped(test_dir)\n",
        "test_labels_int = np.argmax(test_labels, axis=1)\n"
      ],
      "metadata": {
        "id": "hXDAMj2tOQID"
      },
      "execution_count": 12,
      "outputs": []
    },
    {
      "cell_type": "code",
      "source": [
        "# Make predictions on the test set\n",
        "predictions = model_with_attention.predict(test_images)\n",
        "predicted_labels_int = np.argmax(predictions, axis=1)\n",
        "\n",
        "# Map the integer labels back to cancerous and non-cancerous\n",
        "int_to_class = {1: 'Cancerous', 0: 'Non-Cancerous'}\n",
        "test_labels_str = [int_to_class[i] for i in test_labels_int]\n",
        "predicted_labels_str = [int_to_class[i] for i in predicted_labels_int]\n"
      ],
      "metadata": {
        "colab": {
          "base_uri": "https://localhost:8080/"
        },
        "id": "rv7YQXNiOQKr",
        "outputId": "90c2e409-c46d-47ed-f098-822e143ebfc5"
      },
      "execution_count": 15,
      "outputs": [
        {
          "output_type": "stream",
          "name": "stdout",
          "text": [
            "7/7 [==============================] - 1s 112ms/step\n"
          ]
        }
      ]
    },
    {
      "cell_type": "code",
      "source": [
        "# Plot the confusion matrix\n",
        "conf_matrix = confusion_matrix(test_labels_str, predicted_labels_str, labels=['Cancerous', 'Non-Cancerous'])\n",
        "disp = ConfusionMatrixDisplay(confusion_matrix=conf_matrix, display_labels=['Cancerous', 'Non-Cancerous'])\n",
        "disp.plot(cmap=plt.cm.Blues)\n",
        "plt.title('Confusion Matrix: Cancerous vs Non-Cancerous')\n",
        "plt.show()\n",
        "\n",
        "# Print the classification report\n",
        "class_report = classification_report(test_labels_str, predicted_labels_str, target_names=['Cancerous', 'Non-Cancerous'])\n",
        "print(\"Classification Report:\")\n",
        "print(class_report)\n",
        "\n",
        "# Save the classification report to a file if needed\n",
        "with open('classification_report_cancerous_vs_noncancerous.txt', 'w') as f:\n",
        "    f.write(class_report)"
      ],
      "metadata": {
        "colab": {
          "base_uri": "https://localhost:8080/",
          "height": 646
        },
        "id": "RY2Q-JXhOQNc",
        "outputId": "64797b81-4684-4165-eda1-22f246fa9e35"
      },
      "execution_count": 16,
      "outputs": [
        {
          "output_type": "display_data",
          "data": {
            "text/plain": [
              "<Figure size 640x480 with 2 Axes>"
            ],
            "image/png": "[encoded data removed]"
          },
          "metadata": {}
        },
        {
          "output_type": "stream",
          "name": "stdout",
          "text": [
            "Classification Report:\n",
            "               precision    recall  f1-score   support\n",
            "\n",
            "    Cancerous       0.99      0.98      0.99       161\n",
            "Non-Cancerous       0.93      0.98      0.96        44\n",
            "\n",
            "     accuracy                           0.98       205\n",
            "    macro avg       0.96      0.98      0.97       205\n",
            " weighted avg       0.98      0.98      0.98       205\n",
            "\n"
          ]
        }
      ]
    },
    {
      "cell_type": "code",
      "source": [
        "from tensorflow.keras.models import load_model\n",
        "\n",
        "# Load the existing .keras model\n",
        "model_path_keras = '/content/best_model.keras'\n",
        "model_path_h5 = '/content/best_model.h5'\n",
        "\n",
        "# Load the models\n",
        "model_keras = load_model(model_path_keras)\n",
        "model_h5 = load_model(model_path_h5)\n",
        "\n",
        "# Define the target directories and filenames\n",
        "deployment_dir = '/content/drive/MyDrive/Dataset/Skin_Lesion_Datasets/All/Deployments'\n",
        "os.makedirs(deployment_dir, exist_ok=True)\n",
        "\n",
        "model_for_lesion_path = os.path.join(deployment_dir, 'Model_for_lesion.h5')\n",
        "model_for_cancer_path = os.path.join(deployment_dir, 'Model_for_cancer.h5')\n",
        "\n",
        "# Save the models in .h5 format\n",
        "model_keras.save(model_for_lesion_path)\n",
        "model_h5.save(model_for_cancer_path)\n",
        "\n",
        "print(f\"Model_for_lesion saved to {model_for_lesion_path}\")\n",
        "print(f\"Model_for_cancer saved to {model_for_cancer_path}\")\n"
      ],
      "metadata": {
        "colab": {
          "base_uri": "https://localhost:8080/"
        },
        "id": "KeR5YmRvXmUj",
        "outputId": "b1110544-f014-4b9c-9b99-1d0c704c6211"
      },
      "execution_count": 17,
      "outputs": [
        {
          "output_type": "stream",
          "name": "stderr",
          "text": [
            "/usr/local/lib/python3.10/dist-packages/keras/src/engine/training.py:3103: UserWarning: You are saving your model as an HDF5 file via `model.save()`. This file format is considered legacy. We recommend using instead the native Keras format, e.g. `model.save('my_model.keras')`.\n",
            "  saving_api.save_model(\n"
          ]
        },
        {
          "output_type": "stream",
          "name": "stdout",
          "text": [
            "Model_for_lesion saved to /content/drive/MyDrive/Dataset/Skin_Lesion_Datasets/All/Deployments/Model_for_lesion.h5\n",
            "Model_for_cancer saved to /content/drive/MyDrive/Dataset/Skin_Lesion_Datasets/All/Deployments/Model_for_cancer.h5\n"
          ]
        }
      ]
    },
    {
      "cell_type": "code",
      "source": [],
      "metadata": {
        "id": "8C1_APrvXmZ4"
      },
      "execution_count": null,
      "outputs": []
    },
    {
      "cell_type": "code",
      "source": [],
      "metadata": {
        "id": "VZaQNXfRZfq4"
      },
      "execution_count": null,
      "outputs": []
    },
    {
      "cell_type": "code",
      "source": [],
      "metadata": {
        "id": "A0Rpq83dZfu0"
      },
      "execution_count": null,
      "outputs": []
    },
    {
      "cell_type": "code",
      "source": [
        "import matplotlib.pyplot as plt\n",
        "\n",
        "def plot_training_history(history, title):\n",
        "    acc = history.history['accuracy']\n",
        "    val_acc = history.history['val_accuracy']\n",
        "    loss = history.history['loss']\n",
        "    val_loss = history.history['val_loss']\n",
        "    epochs = range(1, len(acc) + 1)\n",
        "\n",
        "    plt.figure(figsize=(14, 5))\n",
        "\n",
        "    plt.subplot(1, 2, 1)\n",
        "    plt.plot(epochs, acc, 'b', label='Training accuracy')\n",
        "    plt.plot(epochs, val_acc, 'r', label='Validation accuracy')\n",
        "    plt.title(f'{title} - Training and Validation Accuracy')\n",
        "    plt.xlabel('Epochs')\n",
        "    plt.ylabel('Accuracy')\n",
        "    plt.legend()\n",
        "\n",
        "    plt.subplot(1, 2, 2)\n",
        "    plt.plot(epochs, loss, 'b', label='Training loss')\n",
        "    plt.plot(epochs, val_loss, 'r', label='Validation loss')\n",
        "    plt.title(f'{title} - Training and Validation Loss')\n",
        "    plt.xlabel('Epochs')\n",
        "    plt.ylabel('Loss')\n",
        "    plt.legend()\n",
        "\n",
        "    plt.show()\n",
        "\n",
        "# Assuming h2 and h3 are the history objects for the two models\n",
        "#plot_training_history(history2, 'Model H2')\n",
        "plot_training_history(history4, 'Model H4')\n"
      ],
      "metadata": {
        "colab": {
          "base_uri": "https://localhost:8080/",
          "height": 487
        },
        "id": "eQdKXeovYGG-",
        "outputId": "7e7ce1bb-940f-4875-ff14-0b05819aff11"
      },
      "execution_count": 22,
      "outputs": [
        {
          "output_type": "display_data",
          "data": {
            "text/plain": [
              "<Figure size 1400x500 with 2 Axes>"
            ],
            "image/png": "[encoded data removed]"
          },
          "metadata": {}
        }
      ]
    },
    {
      "cell_type": "code",
      "source": [],
      "metadata": {
        "id": "ZOPZ9W8CYGJ6"
      },
      "execution_count": null,
      "outputs": []
    },
    {
      "cell_type": "code",
      "source": [],
      "metadata": {
        "id": "bX2nb-EWYGNU"
      },
      "execution_count": null,
      "outputs": []
    },
    {
      "cell_type": "code",
      "source": [],
      "metadata": {
        "id": "bcwCp1KWYGQI"
      },
      "execution_count": null,
      "outputs": []
    },
    {
      "cell_type": "code",
      "source": [
        "model.save"
      ],
      "metadata": {
        "id": "MsPcbl18OQQV"
      },
      "execution_count": null,
      "outputs": []
    },
    {
      "cell_type": "code",
      "source": [
        "/content/best_model.keras"
      ],
      "metadata": {
        "id": "0OA0LNK9OQUy"
      },
      "execution_count": null,
      "outputs": []
    },
    {
      "cell_type": "code",
      "source": [
        "/content/drive/MyDrive/Dataset/Skin_Lesion_Datasets/All/Deployments"
      ],
      "metadata": {
        "id": "UU8j-eZ9F2p8"
      },
      "execution_count": null,
      "outputs": []
    },
    {
      "cell_type": "code",
      "source": [],
      "metadata": {
        "id": "mupLOabBF2tn"
      },
      "execution_count": null,
      "outputs": []
    },
    {
      "cell_type": "code",
      "source": [],
      "metadata": {
        "id": "kDQf3OTIlkSz"
      },
      "execution_count": null,
      "outputs": []
    },
    {
      "cell_type": "code",
      "source": [],
      "metadata": {
        "id": "Z6rF6FxxlkZ5"
      },
      "execution_count": null,
      "outputs": []
    },
    {
      "cell_type": "code",
      "source": [],
      "metadata": {
        "id": "VM32YkSPlkm3"
      },
      "execution_count": null,
      "outputs": []
    },
    {
      "cell_type": "code",
      "source": [],
      "metadata": {
        "id": "8i5tLH4ylkpx"
      },
      "execution_count": null,
      "outputs": []
    },
    {
      "cell_type": "code",
      "source": [
        "# !pip install tensorflow_addons\n"
      ],
      "metadata": {
        "trusted": true,
        "id": "F_D5qVT6tday"
      },
      "execution_count": null,
      "outputs": []
    },
    {
      "cell_type": "code",
      "source": [
        "# pip install streamlit tensorflow\n"
      ],
      "metadata": {
        "trusted": true,
        "id": "fPO8H9YNtday"
      },
      "execution_count": null,
      "outputs": []
    },
    {
      "cell_type": "code",
      "source": [
        "import tensorflow as tf\n",
        "from tensorflow.keras.preprocessing.image import load_img, img_to_array\n",
        "from IPython.display import display\n",
        "from ipywidgets import FileUpload\n",
        "from IPython.display import clear_output\n",
        "\n",
        "# Define the model loading function\n",
        "def load_model():\n",
        "    return tf.keras.models.load_model('/kaggle/working/best_model3.keras')\n",
        "\n",
        "# Load the model\n",
        "model = load_model()\n",
        "\n",
        "# Create an upload button to upload images\n",
        "upload = FileUpload(accept='image/*', multiple=False)\n",
        "\n",
        "# Function to handle the image upload\n",
        "def on_upload_change(change):\n",
        "    if not change.new:\n",
        "        return\n",
        "    up = change.owner\n",
        "    for filename, file_info in up.value.items():\n",
        "        img = load_img(file_info['content'], target_size=(256, 256))  # Adjust target_size to match your model's expected input\n",
        "        img_array = img_to_array(img)\n",
        "        img_array = img_array.reshape((1,) + img_array.shape)  # Model expects a batch dimension\n",
        "        img_array /= 255.0  # Normalization (if needed)\n",
        "\n",
        "        # Display the uploaded image\n",
        "        display(img)\n",
        "\n",
        "        # Make predictions\n",
        "        prediction = model.predict(img_array)\n",
        "        print(f'Prediction: {prediction}')  # You might want to adjust this part based on what you want to output\n",
        "\n",
        "        # Clear the upload widget for the next upload\n",
        "        up.value.clear()\n",
        "        up._counter = 0\n",
        "\n",
        "# Watch the upload widget for changes\n",
        "upload.observe(on_upload_change, names='_counter')\n",
        "\n",
        "# Display the upload widget\n",
        "display(upload)\n"
      ],
      "metadata": {
        "execution": {
          "iopub.status.busy": "2024-05-23T18:05:27.065342Z",
          "iopub.execute_input": "2024-05-23T18:05:27.066058Z",
          "iopub.status.idle": "2024-05-23T18:05:33.855553Z",
          "shell.execute_reply.started": "2024-05-23T18:05:27.066026Z",
          "shell.execute_reply": "2024-05-23T18:05:33.854613Z"
        },
        "trusted": true,
        "colab": {
          "referenced_widgets": [
            "2b84abcb81b946d98db74682defd2782"
          ]
        },
        "id": "6HY7pj2Btdaz",
        "outputId": "35e95f74-0d95-4515-e14b-394857c43365"
      },
      "execution_count": null,
      "outputs": [
        {
          "output_type": "display_data",
          "data": {
            "text/plain": "FileUpload(value={}, accept='image/*', description='Upload')",
            "application/vnd.jupyter.widget-view+json": {
              "version_major": 2,
              "version_minor": 0,
              "model_id": "2b84abcb81b946d98db74682defd2782"
            }
          },
          "metadata": {}
        }
      ]
    },
    {
      "cell_type": "code",
      "source": [
        "# import streamlit as st\n",
        "# import tensorflow as tf\n",
        "# from PIL import Image, ImageOps\n",
        "# import numpy as np\n",
        "\n",
        "# # Load your model\n",
        "# model = tf.keras.models.load_model('/kaggle/working/best_model.keras')\n",
        "\n",
        "# def predict(image):\n",
        "#     '''Process the image and predict the class.'''\n",
        "#     # Resize to the input shape expected by the model\n",
        "#     image = image.resize((256, 256))\n",
        "\n",
        "#     # Convert to numpy, ensure it's float32 and expand dims to simulate batch\n",
        "#     image = np.array(image).astype(np.float32)\n",
        "\n",
        "#     # Normalize the image data to 0-1 range\n",
        "#     image = image / 255.0\n",
        "\n",
        "#     # If the image is grayscale, convert it to 3-channel (RGB) by repeating the channels\n",
        "#     if image.ndim == 2 or (image.ndim == 3 and image.shape[-1] == 1):\n",
        "#         image = np.stack((image,) * 3, axis=-1)  # Stack along the last dimension to get 3 channels\n",
        "\n",
        "#     image = np.expand_dims(image, axis=0)  # Model expects a batch dimension\n",
        "\n",
        "#     prediction = model.predict(image)\n",
        "#     return prediction\n",
        "\n",
        "# st.title('Lesion Detection App')\n",
        "\n",
        "# uploaded_file = st.file_uploader(\"Choose an image...\", type=[\"jpg\", \"png\"])\n",
        "# if uploaded_file is not None:\n",
        "#     image = Image.open(uploaded_file).convert('L')  # Convert to grayscale\n",
        "#     st.image(image, caption='Uploaded Image.', use_column_width=True)\n",
        "#     st.write(\"\")\n",
        "#     st.write(\"Classifying...\")\n",
        "#     label = predict(image)\n",
        "#     st.write(f'Prediction: {label}')\n"
      ],
      "metadata": {
        "execution": {
          "iopub.status.busy": "2024-05-23T17:09:14.062418Z",
          "iopub.execute_input": "2024-05-23T17:09:14.062706Z",
          "iopub.status.idle": "2024-05-23T17:09:14.067906Z",
          "shell.execute_reply.started": "2024-05-23T17:09:14.062681Z",
          "shell.execute_reply": "2024-05-23T17:09:14.066912Z"
        },
        "trusted": true,
        "id": "jKpTG-xKtda0"
      },
      "execution_count": null,
      "outputs": []
    },
    {
      "cell_type": "code",
      "source": [
        "!ngrok config add-authtoken 2VJXf1SjlcpG5WPLyrgDcEaM2ct_7KytqnABitp5VfqfxZCYf"
      ],
      "metadata": {
        "execution": {
          "iopub.status.busy": "2024-05-23T17:42:58.240379Z",
          "iopub.execute_input": "2024-05-23T17:42:58.240769Z",
          "iopub.status.idle": "2024-05-23T17:43:00.937511Z",
          "shell.execute_reply.started": "2024-05-23T17:42:58.240740Z",
          "shell.execute_reply": "2024-05-23T17:43:00.936259Z"
        },
        "trusted": true,
        "id": "aC-IPGVXtda2",
        "outputId": "13182437-2a0e-4dee-abe3-6308cabdb6c5"
      },
      "execution_count": null,
      "outputs": [
        {
          "name": "stdout",
          "text": "Authtoken saved to configuration file: /root/.config/ngrok/ngrok.yml                                \n",
          "output_type": "stream"
        }
      ]
    },
    {
      "cell_type": "code",
      "source": [
        "!wget -q -O - ipv4.icanhazip.com"
      ],
      "metadata": {
        "execution": {
          "iopub.status.busy": "2024-05-23T17:43:14.186481Z",
          "iopub.execute_input": "2024-05-23T17:43:14.187248Z",
          "iopub.status.idle": "2024-05-23T17:43:15.708742Z",
          "shell.execute_reply.started": "2024-05-23T17:43:14.187208Z",
          "shell.execute_reply": "2024-05-23T17:43:15.707533Z"
        },
        "trusted": true,
        "id": "7gorpyHrtda3",
        "outputId": "abdcb56e-c9eb-4d7e-bf5b-5c01da6eab23"
      },
      "execution_count": null,
      "outputs": [
        {
          "name": "stdout",
          "text": "34.83.51.35\n",
          "output_type": "stream"
        }
      ]
    },
    {
      "cell_type": "code",
      "source": [
        "\n",
        "!ngrok http --domain=perfect-saved-beagle.ngrok-free.app 80\n"
      ],
      "metadata": {
        "trusted": true,
        "id": "coozdG4ztda4"
      },
      "execution_count": null,
      "outputs": []
    },
    {
      "cell_type": "code",
      "source": [
        "# !npm install -g npm@latest\n",
        "# !npm install -g localtunnel\n"
      ],
      "metadata": {
        "trusted": true,
        "id": "pmK8jHnntda-"
      },
      "execution_count": null,
      "outputs": []
    },
    {
      "cell_type": "code",
      "source": [
        "def load_model():\n",
        "    return tf.keras.models.load_model('/kaggle/working/model2.h5')\n",
        "\n",
        "model = load_model()"
      ],
      "metadata": {
        "execution": {
          "iopub.status.busy": "2024-05-23T18:17:20.400938Z",
          "iopub.execute_input": "2024-05-23T18:17:20.401271Z",
          "iopub.status.idle": "2024-05-23T18:17:22.102919Z",
          "shell.execute_reply.started": "2024-05-23T18:17:20.401242Z",
          "shell.execute_reply": "2024-05-23T18:17:22.102046Z"
        },
        "trusted": true,
        "id": "u4JS6Mw4tda_"
      },
      "execution_count": null,
      "outputs": []
    },
    {
      "cell_type": "code",
      "source": [
        "%%writefile app.py\n",
        "\n",
        "\n",
        "import streamlit as st\n",
        "from PIL import Image\n",
        "import numpy as np\n",
        "import cv2\n",
        "\n",
        "from tensorflow.keras.models import load_model\n",
        "\n",
        "import streamlit as st\n",
        "import tensorflow as tf\n",
        "from PIL import Image\n",
        "import numpy as np\n",
        "\n",
        "\n",
        "# Load the model (ensure the path matches where your model is saved)\n",
        "import tensorflow as tf\n",
        "\n",
        "@st.cache(allow_output_mutation=True)\n",
        "def load_model():\n",
        "    return tf.keras.models.load_model('/kaggle/working/model2.h5', compile=False)\n",
        "\n",
        "model = load_model()\n",
        "\n",
        "def predict(image):\n",
        "    '''Process the image and predict the class.'''\n",
        "    image = image.resize((256, 256))  # Resize to match the input shape expected by the model\n",
        "    image = np.array(image)\n",
        "    image = np.expand_dims(image, axis=0)  # Add batch dimension\n",
        "    image = image / 255.0  # Normalize pixel values if your model expects values in [0, 1]\n",
        "\n",
        "    prediction = model.predict(image)\n",
        "    return np.argmax(prediction)  # Assuming your model outputs logits or probabilities\n",
        "\n",
        "st.title('Lesion Detection App')\n",
        "\n",
        "uploaded_file = st.file_uploader(\"Choose an image...\", type=[\"jpg\", \"png\"])\n",
        "if uploaded_file is not None:\n",
        "    image = Image.open(uploaded_file).convert('RGB')  # Ensure image is in RGB\n",
        "    st.image(image, caption='Uploaded Image.', use_column_width=True)\n",
        "    st.write(\"\")\n",
        "    st.write(\"Classifying...\")\n",
        "    label = predict(image)\n",
        "    st.write(f'Prediction: {label}')\n"
      ],
      "metadata": {
        "execution": {
          "iopub.status.busy": "2024-05-23T18:21:13.062158Z",
          "iopub.execute_input": "2024-05-23T18:21:13.062523Z",
          "iopub.status.idle": "2024-05-23T18:21:13.070883Z",
          "shell.execute_reply.started": "2024-05-23T18:21:13.062489Z",
          "shell.execute_reply": "2024-05-23T18:21:13.069894Z"
        },
        "trusted": true,
        "id": "W3NLhO3UtdbA",
        "outputId": "188b8509-bbf2-42f2-e1e2-705fec070500"
      },
      "execution_count": null,
      "outputs": [
        {
          "name": "stdout",
          "text": "Overwriting app.py\n",
          "output_type": "stream"
        }
      ]
    },
    {
      "cell_type": "code",
      "source": [
        "!streamlit run app.py & npx localtunnel --port 8501"
      ],
      "metadata": {
        "trusted": true,
        "id": "ePMpYXIRtdbG"
      },
      "execution_count": null,
      "outputs": []
    },
    {
      "cell_type": "code",
      "source": [
        "!pip install pyngrok\n",
        "from pyngrok import ngrok\n"
      ],
      "metadata": {
        "execution": {
          "iopub.status.busy": "2024-05-23T17:41:33.999287Z",
          "iopub.execute_input": "2024-05-23T17:41:34.000159Z",
          "iopub.status.idle": "2024-05-23T17:41:47.013542Z",
          "shell.execute_reply.started": "2024-05-23T17:41:34.000120Z",
          "shell.execute_reply": "2024-05-23T17:41:47.012411Z"
        },
        "trusted": true,
        "id": "VScpClE6tdbG",
        "outputId": "38facd74-f7a0-406f-8d07-03db263ee885"
      },
      "execution_count": null,
      "outputs": [
        {
          "name": "stdout",
          "text": "Collecting pyngrok\n  Downloading pyngrok-7.1.6-py3-none-any.whl.metadata (7.4 kB)\nRequirement already satisfied: PyYAML>=5.1 in /opt/conda/lib/python3.10/site-packages (from pyngrok) (6.0.1)\nDownloading pyngrok-7.1.6-py3-none-any.whl (22 kB)\nInstalling collected packages: pyngrok\nSuccessfully installed pyngrok-7.1.6\n",
          "output_type": "stream"
        }
      ]
    },
    {
      "cell_type": "code",
      "source": [
        "!ngrok config add-authtoken 2c2M2FlQYv80TSFGhi8uPuoPkEa_53etdvNFKxW6rd5XvRRAh\n"
      ],
      "metadata": {
        "execution": {
          "iopub.status.busy": "2024-05-23T17:38:03.319739Z",
          "iopub.execute_input": "2024-05-23T17:38:03.320568Z",
          "iopub.status.idle": "2024-05-23T17:38:04.801064Z",
          "shell.execute_reply.started": "2024-05-23T17:38:03.320521Z",
          "shell.execute_reply": "2024-05-23T17:38:04.799798Z"
        },
        "trusted": true,
        "id": "eng47EeQtdbH",
        "outputId": "9c2856f1-0fee-44d2-c8cb-560d03205f59"
      },
      "execution_count": null,
      "outputs": [
        {
          "name": "stdout",
          "text": "/bin/bash: ngrok: command not found\n",
          "output_type": "stream"
        }
      ]
    }
  ]
}